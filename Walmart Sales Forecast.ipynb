{
 "cells": [
  {
   "cell_type": "markdown",
   "metadata": {},
   "source": [
    "# Predicting department-wise sales for each store"
   ]
  },
  {
   "cell_type": "code",
   "execution_count": 1,
   "metadata": {},
   "outputs": [],
   "source": [
    "import numpy as np\n",
    "import pandas as pd\n",
    "import seaborn as sns\n",
    "from sklearn import linear_model\n",
    "import matplotlib.pyplot as plt\n",
    "from sklearn.preprocessing import LabelEncoder\n",
    "from sklearn.tree import DecisionTreeRegressor\n",
    "%matplotlib inline"
   ]
  },
  {
   "cell_type": "code",
   "execution_count": 2,
   "metadata": {},
   "outputs": [],
   "source": [
    "feature = pd.read_csv('features.csv')\n",
    "train = pd.read_csv('train.csv')\n",
    "stores = pd.read_csv('stores.csv')"
   ]
  },
  {
   "cell_type": "code",
   "execution_count": 3,
   "metadata": {},
   "outputs": [
    {
     "data": {
      "text/html": [
       "<div>\n",
       "<style scoped>\n",
       "    .dataframe tbody tr th:only-of-type {\n",
       "        vertical-align: middle;\n",
       "    }\n",
       "\n",
       "    .dataframe tbody tr th {\n",
       "        vertical-align: top;\n",
       "    }\n",
       "\n",
       "    .dataframe thead th {\n",
       "        text-align: right;\n",
       "    }\n",
       "</style>\n",
       "<table border=\"1\" class=\"dataframe\">\n",
       "  <thead>\n",
       "    <tr style=\"text-align: right;\">\n",
       "      <th></th>\n",
       "      <th>Store</th>\n",
       "      <th>Dept</th>\n",
       "      <th>Date</th>\n",
       "      <th>Weekly_Sales</th>\n",
       "      <th>IsHoliday</th>\n",
       "    </tr>\n",
       "  </thead>\n",
       "  <tbody>\n",
       "    <tr>\n",
       "      <td>0</td>\n",
       "      <td>1</td>\n",
       "      <td>1</td>\n",
       "      <td>2010-02-05</td>\n",
       "      <td>24924.50</td>\n",
       "      <td>False</td>\n",
       "    </tr>\n",
       "    <tr>\n",
       "      <td>1</td>\n",
       "      <td>1</td>\n",
       "      <td>1</td>\n",
       "      <td>2010-02-12</td>\n",
       "      <td>46039.49</td>\n",
       "      <td>True</td>\n",
       "    </tr>\n",
       "    <tr>\n",
       "      <td>2</td>\n",
       "      <td>1</td>\n",
       "      <td>1</td>\n",
       "      <td>2010-02-19</td>\n",
       "      <td>41595.55</td>\n",
       "      <td>False</td>\n",
       "    </tr>\n",
       "    <tr>\n",
       "      <td>3</td>\n",
       "      <td>1</td>\n",
       "      <td>1</td>\n",
       "      <td>2010-02-26</td>\n",
       "      <td>19403.54</td>\n",
       "      <td>False</td>\n",
       "    </tr>\n",
       "    <tr>\n",
       "      <td>4</td>\n",
       "      <td>1</td>\n",
       "      <td>1</td>\n",
       "      <td>2010-03-05</td>\n",
       "      <td>21827.90</td>\n",
       "      <td>False</td>\n",
       "    </tr>\n",
       "  </tbody>\n",
       "</table>\n",
       "</div>"
      ],
      "text/plain": [
       "   Store  Dept        Date  Weekly_Sales  IsHoliday\n",
       "0      1     1  2010-02-05      24924.50      False\n",
       "1      1     1  2010-02-12      46039.49       True\n",
       "2      1     1  2010-02-19      41595.55      False\n",
       "3      1     1  2010-02-26      19403.54      False\n",
       "4      1     1  2010-03-05      21827.90      False"
      ]
     },
     "execution_count": 3,
     "metadata": {},
     "output_type": "execute_result"
    }
   ],
   "source": [
    "train.head()"
   ]
  },
  {
   "cell_type": "code",
   "execution_count": 4,
   "metadata": {},
   "outputs": [
    {
     "data": {
      "text/html": [
       "<div>\n",
       "<style scoped>\n",
       "    .dataframe tbody tr th:only-of-type {\n",
       "        vertical-align: middle;\n",
       "    }\n",
       "\n",
       "    .dataframe tbody tr th {\n",
       "        vertical-align: top;\n",
       "    }\n",
       "\n",
       "    .dataframe thead th {\n",
       "        text-align: right;\n",
       "    }\n",
       "</style>\n",
       "<table border=\"1\" class=\"dataframe\">\n",
       "  <thead>\n",
       "    <tr style=\"text-align: right;\">\n",
       "      <th></th>\n",
       "      <th>Store</th>\n",
       "      <th>Date</th>\n",
       "      <th>Temperature</th>\n",
       "      <th>Fuel_Price</th>\n",
       "      <th>MarkDown1</th>\n",
       "      <th>MarkDown2</th>\n",
       "      <th>MarkDown3</th>\n",
       "      <th>MarkDown4</th>\n",
       "      <th>MarkDown5</th>\n",
       "      <th>CPI</th>\n",
       "      <th>Unemployment</th>\n",
       "      <th>IsHoliday</th>\n",
       "    </tr>\n",
       "  </thead>\n",
       "  <tbody>\n",
       "    <tr>\n",
       "      <td>0</td>\n",
       "      <td>1</td>\n",
       "      <td>2010-02-05</td>\n",
       "      <td>42.31</td>\n",
       "      <td>2.572</td>\n",
       "      <td>NaN</td>\n",
       "      <td>NaN</td>\n",
       "      <td>NaN</td>\n",
       "      <td>NaN</td>\n",
       "      <td>NaN</td>\n",
       "      <td>211.096358</td>\n",
       "      <td>8.106</td>\n",
       "      <td>False</td>\n",
       "    </tr>\n",
       "    <tr>\n",
       "      <td>1</td>\n",
       "      <td>1</td>\n",
       "      <td>2010-02-12</td>\n",
       "      <td>38.51</td>\n",
       "      <td>2.548</td>\n",
       "      <td>NaN</td>\n",
       "      <td>NaN</td>\n",
       "      <td>NaN</td>\n",
       "      <td>NaN</td>\n",
       "      <td>NaN</td>\n",
       "      <td>211.242170</td>\n",
       "      <td>8.106</td>\n",
       "      <td>True</td>\n",
       "    </tr>\n",
       "    <tr>\n",
       "      <td>2</td>\n",
       "      <td>1</td>\n",
       "      <td>2010-02-19</td>\n",
       "      <td>39.93</td>\n",
       "      <td>2.514</td>\n",
       "      <td>NaN</td>\n",
       "      <td>NaN</td>\n",
       "      <td>NaN</td>\n",
       "      <td>NaN</td>\n",
       "      <td>NaN</td>\n",
       "      <td>211.289143</td>\n",
       "      <td>8.106</td>\n",
       "      <td>False</td>\n",
       "    </tr>\n",
       "    <tr>\n",
       "      <td>3</td>\n",
       "      <td>1</td>\n",
       "      <td>2010-02-26</td>\n",
       "      <td>46.63</td>\n",
       "      <td>2.561</td>\n",
       "      <td>NaN</td>\n",
       "      <td>NaN</td>\n",
       "      <td>NaN</td>\n",
       "      <td>NaN</td>\n",
       "      <td>NaN</td>\n",
       "      <td>211.319643</td>\n",
       "      <td>8.106</td>\n",
       "      <td>False</td>\n",
       "    </tr>\n",
       "    <tr>\n",
       "      <td>4</td>\n",
       "      <td>1</td>\n",
       "      <td>2010-03-05</td>\n",
       "      <td>46.50</td>\n",
       "      <td>2.625</td>\n",
       "      <td>NaN</td>\n",
       "      <td>NaN</td>\n",
       "      <td>NaN</td>\n",
       "      <td>NaN</td>\n",
       "      <td>NaN</td>\n",
       "      <td>211.350143</td>\n",
       "      <td>8.106</td>\n",
       "      <td>False</td>\n",
       "    </tr>\n",
       "  </tbody>\n",
       "</table>\n",
       "</div>"
      ],
      "text/plain": [
       "   Store        Date  Temperature  Fuel_Price  MarkDown1  MarkDown2  \\\n",
       "0      1  2010-02-05        42.31       2.572        NaN        NaN   \n",
       "1      1  2010-02-12        38.51       2.548        NaN        NaN   \n",
       "2      1  2010-02-19        39.93       2.514        NaN        NaN   \n",
       "3      1  2010-02-26        46.63       2.561        NaN        NaN   \n",
       "4      1  2010-03-05        46.50       2.625        NaN        NaN   \n",
       "\n",
       "   MarkDown3  MarkDown4  MarkDown5         CPI  Unemployment  IsHoliday  \n",
       "0        NaN        NaN        NaN  211.096358         8.106      False  \n",
       "1        NaN        NaN        NaN  211.242170         8.106       True  \n",
       "2        NaN        NaN        NaN  211.289143         8.106      False  \n",
       "3        NaN        NaN        NaN  211.319643         8.106      False  \n",
       "4        NaN        NaN        NaN  211.350143         8.106      False  "
      ]
     },
     "execution_count": 4,
     "metadata": {},
     "output_type": "execute_result"
    }
   ],
   "source": [
    "feature.head()"
   ]
  },
  {
   "cell_type": "code",
   "execution_count": 5,
   "metadata": {},
   "outputs": [
    {
     "data": {
      "text/html": [
       "<div>\n",
       "<style scoped>\n",
       "    .dataframe tbody tr th:only-of-type {\n",
       "        vertical-align: middle;\n",
       "    }\n",
       "\n",
       "    .dataframe tbody tr th {\n",
       "        vertical-align: top;\n",
       "    }\n",
       "\n",
       "    .dataframe thead th {\n",
       "        text-align: right;\n",
       "    }\n",
       "</style>\n",
       "<table border=\"1\" class=\"dataframe\">\n",
       "  <thead>\n",
       "    <tr style=\"text-align: right;\">\n",
       "      <th></th>\n",
       "      <th>Store</th>\n",
       "      <th>Type</th>\n",
       "      <th>Size</th>\n",
       "    </tr>\n",
       "  </thead>\n",
       "  <tbody>\n",
       "    <tr>\n",
       "      <td>0</td>\n",
       "      <td>1</td>\n",
       "      <td>A</td>\n",
       "      <td>151315</td>\n",
       "    </tr>\n",
       "    <tr>\n",
       "      <td>1</td>\n",
       "      <td>2</td>\n",
       "      <td>A</td>\n",
       "      <td>202307</td>\n",
       "    </tr>\n",
       "    <tr>\n",
       "      <td>2</td>\n",
       "      <td>3</td>\n",
       "      <td>B</td>\n",
       "      <td>37392</td>\n",
       "    </tr>\n",
       "    <tr>\n",
       "      <td>3</td>\n",
       "      <td>4</td>\n",
       "      <td>A</td>\n",
       "      <td>205863</td>\n",
       "    </tr>\n",
       "    <tr>\n",
       "      <td>4</td>\n",
       "      <td>5</td>\n",
       "      <td>B</td>\n",
       "      <td>34875</td>\n",
       "    </tr>\n",
       "  </tbody>\n",
       "</table>\n",
       "</div>"
      ],
      "text/plain": [
       "   Store Type    Size\n",
       "0      1    A  151315\n",
       "1      2    A  202307\n",
       "2      3    B   37392\n",
       "3      4    A  205863\n",
       "4      5    B   34875"
      ]
     },
     "execution_count": 5,
     "metadata": {},
     "output_type": "execute_result"
    }
   ],
   "source": [
    "stores.head()"
   ]
  },
  {
   "cell_type": "code",
   "execution_count": 6,
   "metadata": {},
   "outputs": [
    {
     "data": {
      "text/html": [
       "<div>\n",
       "<style scoped>\n",
       "    .dataframe tbody tr th:only-of-type {\n",
       "        vertical-align: middle;\n",
       "    }\n",
       "\n",
       "    .dataframe tbody tr th {\n",
       "        vertical-align: top;\n",
       "    }\n",
       "\n",
       "    .dataframe thead th {\n",
       "        text-align: right;\n",
       "    }\n",
       "</style>\n",
       "<table border=\"1\" class=\"dataframe\">\n",
       "  <thead>\n",
       "    <tr style=\"text-align: right;\">\n",
       "      <th></th>\n",
       "      <th>Store</th>\n",
       "      <th>Dept</th>\n",
       "      <th>Date</th>\n",
       "      <th>Weekly_Sales</th>\n",
       "      <th>IsHoliday</th>\n",
       "      <th>Temperature</th>\n",
       "      <th>Fuel_Price</th>\n",
       "      <th>MarkDown1</th>\n",
       "      <th>MarkDown2</th>\n",
       "      <th>MarkDown3</th>\n",
       "      <th>MarkDown4</th>\n",
       "      <th>MarkDown5</th>\n",
       "      <th>CPI</th>\n",
       "      <th>Unemployment</th>\n",
       "      <th>Type</th>\n",
       "      <th>Size</th>\n",
       "    </tr>\n",
       "  </thead>\n",
       "  <tbody>\n",
       "    <tr>\n",
       "      <td>0</td>\n",
       "      <td>1</td>\n",
       "      <td>1</td>\n",
       "      <td>2010-02-05</td>\n",
       "      <td>24924.50</td>\n",
       "      <td>False</td>\n",
       "      <td>42.31</td>\n",
       "      <td>2.572</td>\n",
       "      <td>NaN</td>\n",
       "      <td>NaN</td>\n",
       "      <td>NaN</td>\n",
       "      <td>NaN</td>\n",
       "      <td>NaN</td>\n",
       "      <td>211.096358</td>\n",
       "      <td>8.106</td>\n",
       "      <td>A</td>\n",
       "      <td>151315</td>\n",
       "    </tr>\n",
       "    <tr>\n",
       "      <td>1</td>\n",
       "      <td>1</td>\n",
       "      <td>1</td>\n",
       "      <td>2010-02-12</td>\n",
       "      <td>46039.49</td>\n",
       "      <td>True</td>\n",
       "      <td>38.51</td>\n",
       "      <td>2.548</td>\n",
       "      <td>NaN</td>\n",
       "      <td>NaN</td>\n",
       "      <td>NaN</td>\n",
       "      <td>NaN</td>\n",
       "      <td>NaN</td>\n",
       "      <td>211.242170</td>\n",
       "      <td>8.106</td>\n",
       "      <td>A</td>\n",
       "      <td>151315</td>\n",
       "    </tr>\n",
       "    <tr>\n",
       "      <td>2</td>\n",
       "      <td>1</td>\n",
       "      <td>1</td>\n",
       "      <td>2010-02-19</td>\n",
       "      <td>41595.55</td>\n",
       "      <td>False</td>\n",
       "      <td>39.93</td>\n",
       "      <td>2.514</td>\n",
       "      <td>NaN</td>\n",
       "      <td>NaN</td>\n",
       "      <td>NaN</td>\n",
       "      <td>NaN</td>\n",
       "      <td>NaN</td>\n",
       "      <td>211.289143</td>\n",
       "      <td>8.106</td>\n",
       "      <td>A</td>\n",
       "      <td>151315</td>\n",
       "    </tr>\n",
       "    <tr>\n",
       "      <td>3</td>\n",
       "      <td>1</td>\n",
       "      <td>1</td>\n",
       "      <td>2010-02-26</td>\n",
       "      <td>19403.54</td>\n",
       "      <td>False</td>\n",
       "      <td>46.63</td>\n",
       "      <td>2.561</td>\n",
       "      <td>NaN</td>\n",
       "      <td>NaN</td>\n",
       "      <td>NaN</td>\n",
       "      <td>NaN</td>\n",
       "      <td>NaN</td>\n",
       "      <td>211.319643</td>\n",
       "      <td>8.106</td>\n",
       "      <td>A</td>\n",
       "      <td>151315</td>\n",
       "    </tr>\n",
       "    <tr>\n",
       "      <td>4</td>\n",
       "      <td>1</td>\n",
       "      <td>1</td>\n",
       "      <td>2010-03-05</td>\n",
       "      <td>21827.90</td>\n",
       "      <td>False</td>\n",
       "      <td>46.50</td>\n",
       "      <td>2.625</td>\n",
       "      <td>NaN</td>\n",
       "      <td>NaN</td>\n",
       "      <td>NaN</td>\n",
       "      <td>NaN</td>\n",
       "      <td>NaN</td>\n",
       "      <td>211.350143</td>\n",
       "      <td>8.106</td>\n",
       "      <td>A</td>\n",
       "      <td>151315</td>\n",
       "    </tr>\n",
       "  </tbody>\n",
       "</table>\n",
       "</div>"
      ],
      "text/plain": [
       "   Store  Dept        Date  Weekly_Sales  IsHoliday  Temperature  Fuel_Price  \\\n",
       "0      1     1  2010-02-05      24924.50      False        42.31       2.572   \n",
       "1      1     1  2010-02-12      46039.49       True        38.51       2.548   \n",
       "2      1     1  2010-02-19      41595.55      False        39.93       2.514   \n",
       "3      1     1  2010-02-26      19403.54      False        46.63       2.561   \n",
       "4      1     1  2010-03-05      21827.90      False        46.50       2.625   \n",
       "\n",
       "   MarkDown1  MarkDown2  MarkDown3  MarkDown4  MarkDown5         CPI  \\\n",
       "0        NaN        NaN        NaN        NaN        NaN  211.096358   \n",
       "1        NaN        NaN        NaN        NaN        NaN  211.242170   \n",
       "2        NaN        NaN        NaN        NaN        NaN  211.289143   \n",
       "3        NaN        NaN        NaN        NaN        NaN  211.319643   \n",
       "4        NaN        NaN        NaN        NaN        NaN  211.350143   \n",
       "\n",
       "   Unemployment Type    Size  \n",
       "0         8.106    A  151315  \n",
       "1         8.106    A  151315  \n",
       "2         8.106    A  151315  \n",
       "3         8.106    A  151315  \n",
       "4         8.106    A  151315  "
      ]
     },
     "execution_count": 6,
     "metadata": {},
     "output_type": "execute_result"
    }
   ],
   "source": [
    "df = train.merge(feature,how = 'left').merge(stores, how = 'left')\n",
    "df.head(5)"
   ]
  },
  {
   "cell_type": "code",
   "execution_count": 7,
   "metadata": {},
   "outputs": [
    {
     "data": {
      "text/plain": [
       "(421570, 16)"
      ]
     },
     "execution_count": 7,
     "metadata": {},
     "output_type": "execute_result"
    }
   ],
   "source": [
    "df.shape"
   ]
  },
  {
   "cell_type": "code",
   "execution_count": 8,
   "metadata": {},
   "outputs": [],
   "source": [
    "data = df.sample(50000)"
   ]
  },
  {
   "cell_type": "code",
   "execution_count": 9,
   "metadata": {},
   "outputs": [
    {
     "data": {
      "text/plain": [
       "(50000, 16)"
      ]
     },
     "execution_count": 9,
     "metadata": {},
     "output_type": "execute_result"
    }
   ],
   "source": [
    "data.shape"
   ]
  },
  {
   "cell_type": "markdown",
   "metadata": {},
   "source": [
    "# Data Cleaning - Handling null data"
   ]
  },
  {
   "cell_type": "code",
   "execution_count": 10,
   "metadata": {},
   "outputs": [
    {
     "data": {
      "text/plain": [
       "Store               0\n",
       "Dept                0\n",
       "Date                0\n",
       "Weekly_Sales        0\n",
       "IsHoliday           0\n",
       "Temperature         0\n",
       "Fuel_Price          0\n",
       "MarkDown1       32129\n",
       "MarkDown2       36761\n",
       "MarkDown3       33767\n",
       "MarkDown4       34018\n",
       "MarkDown5       32048\n",
       "CPI                 0\n",
       "Unemployment        0\n",
       "Type                0\n",
       "Size                0\n",
       "dtype: int64"
      ]
     },
     "execution_count": 10,
     "metadata": {},
     "output_type": "execute_result"
    }
   ],
   "source": [
    "data.isna().sum()"
   ]
  },
  {
   "cell_type": "code",
   "execution_count": 11,
   "metadata": {},
   "outputs": [
    {
     "data": {
      "image/png": "[encoded data removed]",
      "text/plain": [
       "<Figure size 720x576 with 2 Axes>"
      ]
     },
     "metadata": {
      "needs_background": "light"
     },
     "output_type": "display_data"
    }
   ],
   "source": [
    "plt.figure(figsize=(10,8))\n",
    "sns.heatmap(data.isna())\n",
    "plt.show()"
   ]
  },
  {
   "cell_type": "code",
   "execution_count": 12,
   "metadata": {},
   "outputs": [
    {
     "data": {
      "text/html": [
       "<div>\n",
       "<style scoped>\n",
       "    .dataframe tbody tr th:only-of-type {\n",
       "        vertical-align: middle;\n",
       "    }\n",
       "\n",
       "    .dataframe tbody tr th {\n",
       "        vertical-align: top;\n",
       "    }\n",
       "\n",
       "    .dataframe thead th {\n",
       "        text-align: right;\n",
       "    }\n",
       "</style>\n",
       "<table border=\"1\" class=\"dataframe\">\n",
       "  <thead>\n",
       "    <tr style=\"text-align: right;\">\n",
       "      <th></th>\n",
       "      <th>Store</th>\n",
       "      <th>Dept</th>\n",
       "      <th>Date</th>\n",
       "      <th>Weekly_Sales</th>\n",
       "      <th>IsHoliday</th>\n",
       "      <th>Temperature</th>\n",
       "      <th>Fuel_Price</th>\n",
       "      <th>MarkDown1</th>\n",
       "      <th>MarkDown2</th>\n",
       "      <th>MarkDown3</th>\n",
       "      <th>MarkDown4</th>\n",
       "      <th>MarkDown5</th>\n",
       "      <th>CPI</th>\n",
       "      <th>Unemployment</th>\n",
       "      <th>Type</th>\n",
       "      <th>Size</th>\n",
       "    </tr>\n",
       "  </thead>\n",
       "  <tbody>\n",
       "    <tr>\n",
       "      <td>348661</td>\n",
       "      <td>37</td>\n",
       "      <td>17</td>\n",
       "      <td>2010-05-28</td>\n",
       "      <td>249.56</td>\n",
       "      <td>False</td>\n",
       "      <td>80.87</td>\n",
       "      <td>2.759</td>\n",
       "      <td>0.00</td>\n",
       "      <td>NaN</td>\n",
       "      <td>NaN</td>\n",
       "      <td>NaN</td>\n",
       "      <td>NaN</td>\n",
       "      <td>209.666051</td>\n",
       "      <td>8.464</td>\n",
       "      <td>C</td>\n",
       "      <td>39910</td>\n",
       "    </tr>\n",
       "    <tr>\n",
       "      <td>181501</td>\n",
       "      <td>19</td>\n",
       "      <td>33</td>\n",
       "      <td>2010-12-10</td>\n",
       "      <td>9501.13</td>\n",
       "      <td>False</td>\n",
       "      <td>25.12</td>\n",
       "      <td>3.255</td>\n",
       "      <td>0.00</td>\n",
       "      <td>NaN</td>\n",
       "      <td>NaN</td>\n",
       "      <td>NaN</td>\n",
       "      <td>NaN</td>\n",
       "      <td>132.676400</td>\n",
       "      <td>8.067</td>\n",
       "      <td>A</td>\n",
       "      <td>203819</td>\n",
       "    </tr>\n",
       "    <tr>\n",
       "      <td>253769</td>\n",
       "      <td>26</td>\n",
       "      <td>60</td>\n",
       "      <td>2011-03-25</td>\n",
       "      <td>96.80</td>\n",
       "      <td>False</td>\n",
       "      <td>22.99</td>\n",
       "      <td>3.624</td>\n",
       "      <td>0.00</td>\n",
       "      <td>NaN</td>\n",
       "      <td>NaN</td>\n",
       "      <td>NaN</td>\n",
       "      <td>NaN</td>\n",
       "      <td>133.958742</td>\n",
       "      <td>7.907</td>\n",
       "      <td>A</td>\n",
       "      <td>152513</td>\n",
       "    </tr>\n",
       "    <tr>\n",
       "      <td>298158</td>\n",
       "      <td>31</td>\n",
       "      <td>33</td>\n",
       "      <td>2010-11-05</td>\n",
       "      <td>7145.63</td>\n",
       "      <td>False</td>\n",
       "      <td>58.71</td>\n",
       "      <td>2.689</td>\n",
       "      <td>0.00</td>\n",
       "      <td>NaN</td>\n",
       "      <td>NaN</td>\n",
       "      <td>NaN</td>\n",
       "      <td>NaN</td>\n",
       "      <td>211.613505</td>\n",
       "      <td>8.163</td>\n",
       "      <td>A</td>\n",
       "      <td>203750</td>\n",
       "    </tr>\n",
       "    <tr>\n",
       "      <td>85833</td>\n",
       "      <td>9</td>\n",
       "      <td>74</td>\n",
       "      <td>2010-02-05</td>\n",
       "      <td>8076.88</td>\n",
       "      <td>False</td>\n",
       "      <td>38.01</td>\n",
       "      <td>2.572</td>\n",
       "      <td>0.00</td>\n",
       "      <td>NaN</td>\n",
       "      <td>NaN</td>\n",
       "      <td>NaN</td>\n",
       "      <td>NaN</td>\n",
       "      <td>214.655459</td>\n",
       "      <td>6.415</td>\n",
       "      <td>B</td>\n",
       "      <td>125833</td>\n",
       "    </tr>\n",
       "    <tr>\n",
       "      <td>...</td>\n",
       "      <td>...</td>\n",
       "      <td>...</td>\n",
       "      <td>...</td>\n",
       "      <td>...</td>\n",
       "      <td>...</td>\n",
       "      <td>...</td>\n",
       "      <td>...</td>\n",
       "      <td>...</td>\n",
       "      <td>...</td>\n",
       "      <td>...</td>\n",
       "      <td>...</td>\n",
       "      <td>...</td>\n",
       "      <td>...</td>\n",
       "      <td>...</td>\n",
       "      <td>...</td>\n",
       "      <td>...</td>\n",
       "    </tr>\n",
       "    <tr>\n",
       "      <td>313802</td>\n",
       "      <td>32</td>\n",
       "      <td>97</td>\n",
       "      <td>2011-08-19</td>\n",
       "      <td>18670.20</td>\n",
       "      <td>False</td>\n",
       "      <td>73.72</td>\n",
       "      <td>3.499</td>\n",
       "      <td>0.00</td>\n",
       "      <td>NaN</td>\n",
       "      <td>NaN</td>\n",
       "      <td>NaN</td>\n",
       "      <td>NaN</td>\n",
       "      <td>194.250063</td>\n",
       "      <td>8.622</td>\n",
       "      <td>A</td>\n",
       "      <td>203007</td>\n",
       "    </tr>\n",
       "    <tr>\n",
       "      <td>413781</td>\n",
       "      <td>45</td>\n",
       "      <td>13</td>\n",
       "      <td>2012-08-17</td>\n",
       "      <td>28507.09</td>\n",
       "      <td>False</td>\n",
       "      <td>75.71</td>\n",
       "      <td>3.807</td>\n",
       "      <td>3657.79</td>\n",
       "      <td>6.0</td>\n",
       "      <td>0.3</td>\n",
       "      <td>1630.5</td>\n",
       "      <td>3794.22</td>\n",
       "      <td>191.228492</td>\n",
       "      <td>8.684</td>\n",
       "      <td>B</td>\n",
       "      <td>118221</td>\n",
       "    </tr>\n",
       "    <tr>\n",
       "      <td>85719</td>\n",
       "      <td>9</td>\n",
       "      <td>72</td>\n",
       "      <td>2010-08-27</td>\n",
       "      <td>30852.97</td>\n",
       "      <td>False</td>\n",
       "      <td>84.01</td>\n",
       "      <td>2.619</td>\n",
       "      <td>0.00</td>\n",
       "      <td>NaN</td>\n",
       "      <td>NaN</td>\n",
       "      <td>NaN</td>\n",
       "      <td>NaN</td>\n",
       "      <td>215.119954</td>\n",
       "      <td>6.442</td>\n",
       "      <td>B</td>\n",
       "      <td>125833</td>\n",
       "    </tr>\n",
       "    <tr>\n",
       "      <td>4609</td>\n",
       "      <td>1</td>\n",
       "      <td>34</td>\n",
       "      <td>2011-04-22</td>\n",
       "      <td>10357.32</td>\n",
       "      <td>False</td>\n",
       "      <td>72.99</td>\n",
       "      <td>3.807</td>\n",
       "      <td>0.00</td>\n",
       "      <td>NaN</td>\n",
       "      <td>NaN</td>\n",
       "      <td>NaN</td>\n",
       "      <td>NaN</td>\n",
       "      <td>215.459905</td>\n",
       "      <td>7.682</td>\n",
       "      <td>A</td>\n",
       "      <td>151315</td>\n",
       "    </tr>\n",
       "    <tr>\n",
       "      <td>112370</td>\n",
       "      <td>12</td>\n",
       "      <td>33</td>\n",
       "      <td>2011-05-06</td>\n",
       "      <td>9105.98</td>\n",
       "      <td>False</td>\n",
       "      <td>68.40</td>\n",
       "      <td>4.193</td>\n",
       "      <td>0.00</td>\n",
       "      <td>NaN</td>\n",
       "      <td>NaN</td>\n",
       "      <td>NaN</td>\n",
       "      <td>NaN</td>\n",
       "      <td>129.044433</td>\n",
       "      <td>13.736</td>\n",
       "      <td>B</td>\n",
       "      <td>112238</td>\n",
       "    </tr>\n",
       "  </tbody>\n",
       "</table>\n",
       "<p>50000 rows × 16 columns</p>\n",
       "</div>"
      ],
      "text/plain": [
       "        Store  Dept        Date  Weekly_Sales  IsHoliday  Temperature  \\\n",
       "348661     37    17  2010-05-28        249.56      False        80.87   \n",
       "181501     19    33  2010-12-10       9501.13      False        25.12   \n",
       "253769     26    60  2011-03-25         96.80      False        22.99   \n",
       "298158     31    33  2010-11-05       7145.63      False        58.71   \n",
       "85833       9    74  2010-02-05       8076.88      False        38.01   \n",
       "...       ...   ...         ...           ...        ...          ...   \n",
       "313802     32    97  2011-08-19      18670.20      False        73.72   \n",
       "413781     45    13  2012-08-17      28507.09      False        75.71   \n",
       "85719       9    72  2010-08-27      30852.97      False        84.01   \n",
       "4609        1    34  2011-04-22      10357.32      False        72.99   \n",
       "112370     12    33  2011-05-06       9105.98      False        68.40   \n",
       "\n",
       "        Fuel_Price  MarkDown1  MarkDown2  MarkDown3  MarkDown4  MarkDown5  \\\n",
       "348661       2.759       0.00        NaN        NaN        NaN        NaN   \n",
       "181501       3.255       0.00        NaN        NaN        NaN        NaN   \n",
       "253769       3.624       0.00        NaN        NaN        NaN        NaN   \n",
       "298158       2.689       0.00        NaN        NaN        NaN        NaN   \n",
       "85833        2.572       0.00        NaN        NaN        NaN        NaN   \n",
       "...            ...        ...        ...        ...        ...        ...   \n",
       "313802       3.499       0.00        NaN        NaN        NaN        NaN   \n",
       "413781       3.807    3657.79        6.0        0.3     1630.5    3794.22   \n",
       "85719        2.619       0.00        NaN        NaN        NaN        NaN   \n",
       "4609         3.807       0.00        NaN        NaN        NaN        NaN   \n",
       "112370       4.193       0.00        NaN        NaN        NaN        NaN   \n",
       "\n",
       "               CPI  Unemployment Type    Size  \n",
       "348661  209.666051         8.464    C   39910  \n",
       "181501  132.676400         8.067    A  203819  \n",
       "253769  133.958742         7.907    A  152513  \n",
       "298158  211.613505         8.163    A  203750  \n",
       "85833   214.655459         6.415    B  125833  \n",
       "...            ...           ...  ...     ...  \n",
       "313802  194.250063         8.622    A  203007  \n",
       "413781  191.228492         8.684    B  118221  \n",
       "85719   215.119954         6.442    B  125833  \n",
       "4609    215.459905         7.682    A  151315  \n",
       "112370  129.044433        13.736    B  112238  \n",
       "\n",
       "[50000 rows x 16 columns]"
      ]
     },
     "execution_count": 12,
     "metadata": {},
     "output_type": "execute_result"
    }
   ],
   "source": [
    "data.MarkDown1 = data.MarkDown1.fillna(0)\n",
    "data"
   ]
  },
  {
   "cell_type": "code",
   "execution_count": 13,
   "metadata": {},
   "outputs": [
    {
     "data": {
      "text/html": [
       "<div>\n",
       "<style scoped>\n",
       "    .dataframe tbody tr th:only-of-type {\n",
       "        vertical-align: middle;\n",
       "    }\n",
       "\n",
       "    .dataframe tbody tr th {\n",
       "        vertical-align: top;\n",
       "    }\n",
       "\n",
       "    .dataframe thead th {\n",
       "        text-align: right;\n",
       "    }\n",
       "</style>\n",
       "<table border=\"1\" class=\"dataframe\">\n",
       "  <thead>\n",
       "    <tr style=\"text-align: right;\">\n",
       "      <th></th>\n",
       "      <th>Store</th>\n",
       "      <th>Dept</th>\n",
       "      <th>Date</th>\n",
       "      <th>Weekly_Sales</th>\n",
       "      <th>IsHoliday</th>\n",
       "      <th>Temperature</th>\n",
       "      <th>Fuel_Price</th>\n",
       "      <th>MarkDown1</th>\n",
       "      <th>MarkDown2</th>\n",
       "      <th>MarkDown3</th>\n",
       "      <th>MarkDown4</th>\n",
       "      <th>MarkDown5</th>\n",
       "      <th>CPI</th>\n",
       "      <th>Unemployment</th>\n",
       "      <th>Type</th>\n",
       "      <th>Size</th>\n",
       "    </tr>\n",
       "  </thead>\n",
       "  <tbody>\n",
       "    <tr>\n",
       "      <td>348661</td>\n",
       "      <td>37</td>\n",
       "      <td>17</td>\n",
       "      <td>2010-05-28</td>\n",
       "      <td>249.56</td>\n",
       "      <td>False</td>\n",
       "      <td>80.87</td>\n",
       "      <td>2.759</td>\n",
       "      <td>0.00</td>\n",
       "      <td>0.0</td>\n",
       "      <td>NaN</td>\n",
       "      <td>NaN</td>\n",
       "      <td>NaN</td>\n",
       "      <td>209.666051</td>\n",
       "      <td>8.464</td>\n",
       "      <td>C</td>\n",
       "      <td>39910</td>\n",
       "    </tr>\n",
       "    <tr>\n",
       "      <td>181501</td>\n",
       "      <td>19</td>\n",
       "      <td>33</td>\n",
       "      <td>2010-12-10</td>\n",
       "      <td>9501.13</td>\n",
       "      <td>False</td>\n",
       "      <td>25.12</td>\n",
       "      <td>3.255</td>\n",
       "      <td>0.00</td>\n",
       "      <td>0.0</td>\n",
       "      <td>NaN</td>\n",
       "      <td>NaN</td>\n",
       "      <td>NaN</td>\n",
       "      <td>132.676400</td>\n",
       "      <td>8.067</td>\n",
       "      <td>A</td>\n",
       "      <td>203819</td>\n",
       "    </tr>\n",
       "    <tr>\n",
       "      <td>253769</td>\n",
       "      <td>26</td>\n",
       "      <td>60</td>\n",
       "      <td>2011-03-25</td>\n",
       "      <td>96.80</td>\n",
       "      <td>False</td>\n",
       "      <td>22.99</td>\n",
       "      <td>3.624</td>\n",
       "      <td>0.00</td>\n",
       "      <td>0.0</td>\n",
       "      <td>NaN</td>\n",
       "      <td>NaN</td>\n",
       "      <td>NaN</td>\n",
       "      <td>133.958742</td>\n",
       "      <td>7.907</td>\n",
       "      <td>A</td>\n",
       "      <td>152513</td>\n",
       "    </tr>\n",
       "    <tr>\n",
       "      <td>298158</td>\n",
       "      <td>31</td>\n",
       "      <td>33</td>\n",
       "      <td>2010-11-05</td>\n",
       "      <td>7145.63</td>\n",
       "      <td>False</td>\n",
       "      <td>58.71</td>\n",
       "      <td>2.689</td>\n",
       "      <td>0.00</td>\n",
       "      <td>0.0</td>\n",
       "      <td>NaN</td>\n",
       "      <td>NaN</td>\n",
       "      <td>NaN</td>\n",
       "      <td>211.613505</td>\n",
       "      <td>8.163</td>\n",
       "      <td>A</td>\n",
       "      <td>203750</td>\n",
       "    </tr>\n",
       "    <tr>\n",
       "      <td>85833</td>\n",
       "      <td>9</td>\n",
       "      <td>74</td>\n",
       "      <td>2010-02-05</td>\n",
       "      <td>8076.88</td>\n",
       "      <td>False</td>\n",
       "      <td>38.01</td>\n",
       "      <td>2.572</td>\n",
       "      <td>0.00</td>\n",
       "      <td>0.0</td>\n",
       "      <td>NaN</td>\n",
       "      <td>NaN</td>\n",
       "      <td>NaN</td>\n",
       "      <td>214.655459</td>\n",
       "      <td>6.415</td>\n",
       "      <td>B</td>\n",
       "      <td>125833</td>\n",
       "    </tr>\n",
       "    <tr>\n",
       "      <td>...</td>\n",
       "      <td>...</td>\n",
       "      <td>...</td>\n",
       "      <td>...</td>\n",
       "      <td>...</td>\n",
       "      <td>...</td>\n",
       "      <td>...</td>\n",
       "      <td>...</td>\n",
       "      <td>...</td>\n",
       "      <td>...</td>\n",
       "      <td>...</td>\n",
       "      <td>...</td>\n",
       "      <td>...</td>\n",
       "      <td>...</td>\n",
       "      <td>...</td>\n",
       "      <td>...</td>\n",
       "      <td>...</td>\n",
       "    </tr>\n",
       "    <tr>\n",
       "      <td>313802</td>\n",
       "      <td>32</td>\n",
       "      <td>97</td>\n",
       "      <td>2011-08-19</td>\n",
       "      <td>18670.20</td>\n",
       "      <td>False</td>\n",
       "      <td>73.72</td>\n",
       "      <td>3.499</td>\n",
       "      <td>0.00</td>\n",
       "      <td>0.0</td>\n",
       "      <td>NaN</td>\n",
       "      <td>NaN</td>\n",
       "      <td>NaN</td>\n",
       "      <td>194.250063</td>\n",
       "      <td>8.622</td>\n",
       "      <td>A</td>\n",
       "      <td>203007</td>\n",
       "    </tr>\n",
       "    <tr>\n",
       "      <td>413781</td>\n",
       "      <td>45</td>\n",
       "      <td>13</td>\n",
       "      <td>2012-08-17</td>\n",
       "      <td>28507.09</td>\n",
       "      <td>False</td>\n",
       "      <td>75.71</td>\n",
       "      <td>3.807</td>\n",
       "      <td>3657.79</td>\n",
       "      <td>6.0</td>\n",
       "      <td>0.3</td>\n",
       "      <td>1630.5</td>\n",
       "      <td>3794.22</td>\n",
       "      <td>191.228492</td>\n",
       "      <td>8.684</td>\n",
       "      <td>B</td>\n",
       "      <td>118221</td>\n",
       "    </tr>\n",
       "    <tr>\n",
       "      <td>85719</td>\n",
       "      <td>9</td>\n",
       "      <td>72</td>\n",
       "      <td>2010-08-27</td>\n",
       "      <td>30852.97</td>\n",
       "      <td>False</td>\n",
       "      <td>84.01</td>\n",
       "      <td>2.619</td>\n",
       "      <td>0.00</td>\n",
       "      <td>0.0</td>\n",
       "      <td>NaN</td>\n",
       "      <td>NaN</td>\n",
       "      <td>NaN</td>\n",
       "      <td>215.119954</td>\n",
       "      <td>6.442</td>\n",
       "      <td>B</td>\n",
       "      <td>125833</td>\n",
       "    </tr>\n",
       "    <tr>\n",
       "      <td>4609</td>\n",
       "      <td>1</td>\n",
       "      <td>34</td>\n",
       "      <td>2011-04-22</td>\n",
       "      <td>10357.32</td>\n",
       "      <td>False</td>\n",
       "      <td>72.99</td>\n",
       "      <td>3.807</td>\n",
       "      <td>0.00</td>\n",
       "      <td>0.0</td>\n",
       "      <td>NaN</td>\n",
       "      <td>NaN</td>\n",
       "      <td>NaN</td>\n",
       "      <td>215.459905</td>\n",
       "      <td>7.682</td>\n",
       "      <td>A</td>\n",
       "      <td>151315</td>\n",
       "    </tr>\n",
       "    <tr>\n",
       "      <td>112370</td>\n",
       "      <td>12</td>\n",
       "      <td>33</td>\n",
       "      <td>2011-05-06</td>\n",
       "      <td>9105.98</td>\n",
       "      <td>False</td>\n",
       "      <td>68.40</td>\n",
       "      <td>4.193</td>\n",
       "      <td>0.00</td>\n",
       "      <td>0.0</td>\n",
       "      <td>NaN</td>\n",
       "      <td>NaN</td>\n",
       "      <td>NaN</td>\n",
       "      <td>129.044433</td>\n",
       "      <td>13.736</td>\n",
       "      <td>B</td>\n",
       "      <td>112238</td>\n",
       "    </tr>\n",
       "  </tbody>\n",
       "</table>\n",
       "<p>50000 rows × 16 columns</p>\n",
       "</div>"
      ],
      "text/plain": [
       "        Store  Dept        Date  Weekly_Sales  IsHoliday  Temperature  \\\n",
       "348661     37    17  2010-05-28        249.56      False        80.87   \n",
       "181501     19    33  2010-12-10       9501.13      False        25.12   \n",
       "253769     26    60  2011-03-25         96.80      False        22.99   \n",
       "298158     31    33  2010-11-05       7145.63      False        58.71   \n",
       "85833       9    74  2010-02-05       8076.88      False        38.01   \n",
       "...       ...   ...         ...           ...        ...          ...   \n",
       "313802     32    97  2011-08-19      18670.20      False        73.72   \n",
       "413781     45    13  2012-08-17      28507.09      False        75.71   \n",
       "85719       9    72  2010-08-27      30852.97      False        84.01   \n",
       "4609        1    34  2011-04-22      10357.32      False        72.99   \n",
       "112370     12    33  2011-05-06       9105.98      False        68.40   \n",
       "\n",
       "        Fuel_Price  MarkDown1  MarkDown2  MarkDown3  MarkDown4  MarkDown5  \\\n",
       "348661       2.759       0.00        0.0        NaN        NaN        NaN   \n",
       "181501       3.255       0.00        0.0        NaN        NaN        NaN   \n",
       "253769       3.624       0.00        0.0        NaN        NaN        NaN   \n",
       "298158       2.689       0.00        0.0        NaN        NaN        NaN   \n",
       "85833        2.572       0.00        0.0        NaN        NaN        NaN   \n",
       "...            ...        ...        ...        ...        ...        ...   \n",
       "313802       3.499       0.00        0.0        NaN        NaN        NaN   \n",
       "413781       3.807    3657.79        6.0        0.3     1630.5    3794.22   \n",
       "85719        2.619       0.00        0.0        NaN        NaN        NaN   \n",
       "4609         3.807       0.00        0.0        NaN        NaN        NaN   \n",
       "112370       4.193       0.00        0.0        NaN        NaN        NaN   \n",
       "\n",
       "               CPI  Unemployment Type    Size  \n",
       "348661  209.666051         8.464    C   39910  \n",
       "181501  132.676400         8.067    A  203819  \n",
       "253769  133.958742         7.907    A  152513  \n",
       "298158  211.613505         8.163    A  203750  \n",
       "85833   214.655459         6.415    B  125833  \n",
       "...            ...           ...  ...     ...  \n",
       "313802  194.250063         8.622    A  203007  \n",
       "413781  191.228492         8.684    B  118221  \n",
       "85719   215.119954         6.442    B  125833  \n",
       "4609    215.459905         7.682    A  151315  \n",
       "112370  129.044433        13.736    B  112238  \n",
       "\n",
       "[50000 rows x 16 columns]"
      ]
     },
     "execution_count": 13,
     "metadata": {},
     "output_type": "execute_result"
    }
   ],
   "source": [
    "data.MarkDown2 = data.MarkDown2.fillna(0)\n",
    "data"
   ]
  },
  {
   "cell_type": "code",
   "execution_count": 14,
   "metadata": {},
   "outputs": [
    {
     "data": {
      "text/html": [
       "<div>\n",
       "<style scoped>\n",
       "    .dataframe tbody tr th:only-of-type {\n",
       "        vertical-align: middle;\n",
       "    }\n",
       "\n",
       "    .dataframe tbody tr th {\n",
       "        vertical-align: top;\n",
       "    }\n",
       "\n",
       "    .dataframe thead th {\n",
       "        text-align: right;\n",
       "    }\n",
       "</style>\n",
       "<table border=\"1\" class=\"dataframe\">\n",
       "  <thead>\n",
       "    <tr style=\"text-align: right;\">\n",
       "      <th></th>\n",
       "      <th>Store</th>\n",
       "      <th>Dept</th>\n",
       "      <th>Date</th>\n",
       "      <th>Weekly_Sales</th>\n",
       "      <th>IsHoliday</th>\n",
       "      <th>Temperature</th>\n",
       "      <th>Fuel_Price</th>\n",
       "      <th>MarkDown1</th>\n",
       "      <th>MarkDown2</th>\n",
       "      <th>MarkDown3</th>\n",
       "      <th>MarkDown4</th>\n",
       "      <th>MarkDown5</th>\n",
       "      <th>CPI</th>\n",
       "      <th>Unemployment</th>\n",
       "      <th>Type</th>\n",
       "      <th>Size</th>\n",
       "    </tr>\n",
       "  </thead>\n",
       "  <tbody>\n",
       "    <tr>\n",
       "      <td>348661</td>\n",
       "      <td>37</td>\n",
       "      <td>17</td>\n",
       "      <td>2010-05-28</td>\n",
       "      <td>249.56</td>\n",
       "      <td>False</td>\n",
       "      <td>80.87</td>\n",
       "      <td>2.759</td>\n",
       "      <td>0.00</td>\n",
       "      <td>0.0</td>\n",
       "      <td>0.0</td>\n",
       "      <td>NaN</td>\n",
       "      <td>NaN</td>\n",
       "      <td>209.666051</td>\n",
       "      <td>8.464</td>\n",
       "      <td>C</td>\n",
       "      <td>39910</td>\n",
       "    </tr>\n",
       "    <tr>\n",
       "      <td>181501</td>\n",
       "      <td>19</td>\n",
       "      <td>33</td>\n",
       "      <td>2010-12-10</td>\n",
       "      <td>9501.13</td>\n",
       "      <td>False</td>\n",
       "      <td>25.12</td>\n",
       "      <td>3.255</td>\n",
       "      <td>0.00</td>\n",
       "      <td>0.0</td>\n",
       "      <td>0.0</td>\n",
       "      <td>NaN</td>\n",
       "      <td>NaN</td>\n",
       "      <td>132.676400</td>\n",
       "      <td>8.067</td>\n",
       "      <td>A</td>\n",
       "      <td>203819</td>\n",
       "    </tr>\n",
       "    <tr>\n",
       "      <td>253769</td>\n",
       "      <td>26</td>\n",
       "      <td>60</td>\n",
       "      <td>2011-03-25</td>\n",
       "      <td>96.80</td>\n",
       "      <td>False</td>\n",
       "      <td>22.99</td>\n",
       "      <td>3.624</td>\n",
       "      <td>0.00</td>\n",
       "      <td>0.0</td>\n",
       "      <td>0.0</td>\n",
       "      <td>NaN</td>\n",
       "      <td>NaN</td>\n",
       "      <td>133.958742</td>\n",
       "      <td>7.907</td>\n",
       "      <td>A</td>\n",
       "      <td>152513</td>\n",
       "    </tr>\n",
       "    <tr>\n",
       "      <td>298158</td>\n",
       "      <td>31</td>\n",
       "      <td>33</td>\n",
       "      <td>2010-11-05</td>\n",
       "      <td>7145.63</td>\n",
       "      <td>False</td>\n",
       "      <td>58.71</td>\n",
       "      <td>2.689</td>\n",
       "      <td>0.00</td>\n",
       "      <td>0.0</td>\n",
       "      <td>0.0</td>\n",
       "      <td>NaN</td>\n",
       "      <td>NaN</td>\n",
       "      <td>211.613505</td>\n",
       "      <td>8.163</td>\n",
       "      <td>A</td>\n",
       "      <td>203750</td>\n",
       "    </tr>\n",
       "    <tr>\n",
       "      <td>85833</td>\n",
       "      <td>9</td>\n",
       "      <td>74</td>\n",
       "      <td>2010-02-05</td>\n",
       "      <td>8076.88</td>\n",
       "      <td>False</td>\n",
       "      <td>38.01</td>\n",
       "      <td>2.572</td>\n",
       "      <td>0.00</td>\n",
       "      <td>0.0</td>\n",
       "      <td>0.0</td>\n",
       "      <td>NaN</td>\n",
       "      <td>NaN</td>\n",
       "      <td>214.655459</td>\n",
       "      <td>6.415</td>\n",
       "      <td>B</td>\n",
       "      <td>125833</td>\n",
       "    </tr>\n",
       "    <tr>\n",
       "      <td>...</td>\n",
       "      <td>...</td>\n",
       "      <td>...</td>\n",
       "      <td>...</td>\n",
       "      <td>...</td>\n",
       "      <td>...</td>\n",
       "      <td>...</td>\n",
       "      <td>...</td>\n",
       "      <td>...</td>\n",
       "      <td>...</td>\n",
       "      <td>...</td>\n",
       "      <td>...</td>\n",
       "      <td>...</td>\n",
       "      <td>...</td>\n",
       "      <td>...</td>\n",
       "      <td>...</td>\n",
       "      <td>...</td>\n",
       "    </tr>\n",
       "    <tr>\n",
       "      <td>313802</td>\n",
       "      <td>32</td>\n",
       "      <td>97</td>\n",
       "      <td>2011-08-19</td>\n",
       "      <td>18670.20</td>\n",
       "      <td>False</td>\n",
       "      <td>73.72</td>\n",
       "      <td>3.499</td>\n",
       "      <td>0.00</td>\n",
       "      <td>0.0</td>\n",
       "      <td>0.0</td>\n",
       "      <td>NaN</td>\n",
       "      <td>NaN</td>\n",
       "      <td>194.250063</td>\n",
       "      <td>8.622</td>\n",
       "      <td>A</td>\n",
       "      <td>203007</td>\n",
       "    </tr>\n",
       "    <tr>\n",
       "      <td>413781</td>\n",
       "      <td>45</td>\n",
       "      <td>13</td>\n",
       "      <td>2012-08-17</td>\n",
       "      <td>28507.09</td>\n",
       "      <td>False</td>\n",
       "      <td>75.71</td>\n",
       "      <td>3.807</td>\n",
       "      <td>3657.79</td>\n",
       "      <td>6.0</td>\n",
       "      <td>0.3</td>\n",
       "      <td>1630.5</td>\n",
       "      <td>3794.22</td>\n",
       "      <td>191.228492</td>\n",
       "      <td>8.684</td>\n",
       "      <td>B</td>\n",
       "      <td>118221</td>\n",
       "    </tr>\n",
       "    <tr>\n",
       "      <td>85719</td>\n",
       "      <td>9</td>\n",
       "      <td>72</td>\n",
       "      <td>2010-08-27</td>\n",
       "      <td>30852.97</td>\n",
       "      <td>False</td>\n",
       "      <td>84.01</td>\n",
       "      <td>2.619</td>\n",
       "      <td>0.00</td>\n",
       "      <td>0.0</td>\n",
       "      <td>0.0</td>\n",
       "      <td>NaN</td>\n",
       "      <td>NaN</td>\n",
       "      <td>215.119954</td>\n",
       "      <td>6.442</td>\n",
       "      <td>B</td>\n",
       "      <td>125833</td>\n",
       "    </tr>\n",
       "    <tr>\n",
       "      <td>4609</td>\n",
       "      <td>1</td>\n",
       "      <td>34</td>\n",
       "      <td>2011-04-22</td>\n",
       "      <td>10357.32</td>\n",
       "      <td>False</td>\n",
       "      <td>72.99</td>\n",
       "      <td>3.807</td>\n",
       "      <td>0.00</td>\n",
       "      <td>0.0</td>\n",
       "      <td>0.0</td>\n",
       "      <td>NaN</td>\n",
       "      <td>NaN</td>\n",
       "      <td>215.459905</td>\n",
       "      <td>7.682</td>\n",
       "      <td>A</td>\n",
       "      <td>151315</td>\n",
       "    </tr>\n",
       "    <tr>\n",
       "      <td>112370</td>\n",
       "      <td>12</td>\n",
       "      <td>33</td>\n",
       "      <td>2011-05-06</td>\n",
       "      <td>9105.98</td>\n",
       "      <td>False</td>\n",
       "      <td>68.40</td>\n",
       "      <td>4.193</td>\n",
       "      <td>0.00</td>\n",
       "      <td>0.0</td>\n",
       "      <td>0.0</td>\n",
       "      <td>NaN</td>\n",
       "      <td>NaN</td>\n",
       "      <td>129.044433</td>\n",
       "      <td>13.736</td>\n",
       "      <td>B</td>\n",
       "      <td>112238</td>\n",
       "    </tr>\n",
       "  </tbody>\n",
       "</table>\n",
       "<p>50000 rows × 16 columns</p>\n",
       "</div>"
      ],
      "text/plain": [
       "        Store  Dept        Date  Weekly_Sales  IsHoliday  Temperature  \\\n",
       "348661     37    17  2010-05-28        249.56      False        80.87   \n",
       "181501     19    33  2010-12-10       9501.13      False        25.12   \n",
       "253769     26    60  2011-03-25         96.80      False        22.99   \n",
       "298158     31    33  2010-11-05       7145.63      False        58.71   \n",
       "85833       9    74  2010-02-05       8076.88      False        38.01   \n",
       "...       ...   ...         ...           ...        ...          ...   \n",
       "313802     32    97  2011-08-19      18670.20      False        73.72   \n",
       "413781     45    13  2012-08-17      28507.09      False        75.71   \n",
       "85719       9    72  2010-08-27      30852.97      False        84.01   \n",
       "4609        1    34  2011-04-22      10357.32      False        72.99   \n",
       "112370     12    33  2011-05-06       9105.98      False        68.40   \n",
       "\n",
       "        Fuel_Price  MarkDown1  MarkDown2  MarkDown3  MarkDown4  MarkDown5  \\\n",
       "348661       2.759       0.00        0.0        0.0        NaN        NaN   \n",
       "181501       3.255       0.00        0.0        0.0        NaN        NaN   \n",
       "253769       3.624       0.00        0.0        0.0        NaN        NaN   \n",
       "298158       2.689       0.00        0.0        0.0        NaN        NaN   \n",
       "85833        2.572       0.00        0.0        0.0        NaN        NaN   \n",
       "...            ...        ...        ...        ...        ...        ...   \n",
       "313802       3.499       0.00        0.0        0.0        NaN        NaN   \n",
       "413781       3.807    3657.79        6.0        0.3     1630.5    3794.22   \n",
       "85719        2.619       0.00        0.0        0.0        NaN        NaN   \n",
       "4609         3.807       0.00        0.0        0.0        NaN        NaN   \n",
       "112370       4.193       0.00        0.0        0.0        NaN        NaN   \n",
       "\n",
       "               CPI  Unemployment Type    Size  \n",
       "348661  209.666051         8.464    C   39910  \n",
       "181501  132.676400         8.067    A  203819  \n",
       "253769  133.958742         7.907    A  152513  \n",
       "298158  211.613505         8.163    A  203750  \n",
       "85833   214.655459         6.415    B  125833  \n",
       "...            ...           ...  ...     ...  \n",
       "313802  194.250063         8.622    A  203007  \n",
       "413781  191.228492         8.684    B  118221  \n",
       "85719   215.119954         6.442    B  125833  \n",
       "4609    215.459905         7.682    A  151315  \n",
       "112370  129.044433        13.736    B  112238  \n",
       "\n",
       "[50000 rows x 16 columns]"
      ]
     },
     "execution_count": 14,
     "metadata": {},
     "output_type": "execute_result"
    }
   ],
   "source": [
    "data.MarkDown3 = data.MarkDown3.fillna(0)\n",
    "data"
   ]
  },
  {
   "cell_type": "code",
   "execution_count": 15,
   "metadata": {},
   "outputs": [
    {
     "data": {
      "text/html": [
       "<div>\n",
       "<style scoped>\n",
       "    .dataframe tbody tr th:only-of-type {\n",
       "        vertical-align: middle;\n",
       "    }\n",
       "\n",
       "    .dataframe tbody tr th {\n",
       "        vertical-align: top;\n",
       "    }\n",
       "\n",
       "    .dataframe thead th {\n",
       "        text-align: right;\n",
       "    }\n",
       "</style>\n",
       "<table border=\"1\" class=\"dataframe\">\n",
       "  <thead>\n",
       "    <tr style=\"text-align: right;\">\n",
       "      <th></th>\n",
       "      <th>Store</th>\n",
       "      <th>Dept</th>\n",
       "      <th>Date</th>\n",
       "      <th>Weekly_Sales</th>\n",
       "      <th>IsHoliday</th>\n",
       "      <th>Temperature</th>\n",
       "      <th>Fuel_Price</th>\n",
       "      <th>MarkDown1</th>\n",
       "      <th>MarkDown2</th>\n",
       "      <th>MarkDown3</th>\n",
       "      <th>MarkDown4</th>\n",
       "      <th>MarkDown5</th>\n",
       "      <th>CPI</th>\n",
       "      <th>Unemployment</th>\n",
       "      <th>Type</th>\n",
       "      <th>Size</th>\n",
       "    </tr>\n",
       "  </thead>\n",
       "  <tbody>\n",
       "    <tr>\n",
       "      <td>348661</td>\n",
       "      <td>37</td>\n",
       "      <td>17</td>\n",
       "      <td>2010-05-28</td>\n",
       "      <td>249.56</td>\n",
       "      <td>False</td>\n",
       "      <td>80.87</td>\n",
       "      <td>2.759</td>\n",
       "      <td>0.00</td>\n",
       "      <td>0.0</td>\n",
       "      <td>0.0</td>\n",
       "      <td>0.0</td>\n",
       "      <td>NaN</td>\n",
       "      <td>209.666051</td>\n",
       "      <td>8.464</td>\n",
       "      <td>C</td>\n",
       "      <td>39910</td>\n",
       "    </tr>\n",
       "    <tr>\n",
       "      <td>181501</td>\n",
       "      <td>19</td>\n",
       "      <td>33</td>\n",
       "      <td>2010-12-10</td>\n",
       "      <td>9501.13</td>\n",
       "      <td>False</td>\n",
       "      <td>25.12</td>\n",
       "      <td>3.255</td>\n",
       "      <td>0.00</td>\n",
       "      <td>0.0</td>\n",
       "      <td>0.0</td>\n",
       "      <td>0.0</td>\n",
       "      <td>NaN</td>\n",
       "      <td>132.676400</td>\n",
       "      <td>8.067</td>\n",
       "      <td>A</td>\n",
       "      <td>203819</td>\n",
       "    </tr>\n",
       "    <tr>\n",
       "      <td>253769</td>\n",
       "      <td>26</td>\n",
       "      <td>60</td>\n",
       "      <td>2011-03-25</td>\n",
       "      <td>96.80</td>\n",
       "      <td>False</td>\n",
       "      <td>22.99</td>\n",
       "      <td>3.624</td>\n",
       "      <td>0.00</td>\n",
       "      <td>0.0</td>\n",
       "      <td>0.0</td>\n",
       "      <td>0.0</td>\n",
       "      <td>NaN</td>\n",
       "      <td>133.958742</td>\n",
       "      <td>7.907</td>\n",
       "      <td>A</td>\n",
       "      <td>152513</td>\n",
       "    </tr>\n",
       "    <tr>\n",
       "      <td>298158</td>\n",
       "      <td>31</td>\n",
       "      <td>33</td>\n",
       "      <td>2010-11-05</td>\n",
       "      <td>7145.63</td>\n",
       "      <td>False</td>\n",
       "      <td>58.71</td>\n",
       "      <td>2.689</td>\n",
       "      <td>0.00</td>\n",
       "      <td>0.0</td>\n",
       "      <td>0.0</td>\n",
       "      <td>0.0</td>\n",
       "      <td>NaN</td>\n",
       "      <td>211.613505</td>\n",
       "      <td>8.163</td>\n",
       "      <td>A</td>\n",
       "      <td>203750</td>\n",
       "    </tr>\n",
       "    <tr>\n",
       "      <td>85833</td>\n",
       "      <td>9</td>\n",
       "      <td>74</td>\n",
       "      <td>2010-02-05</td>\n",
       "      <td>8076.88</td>\n",
       "      <td>False</td>\n",
       "      <td>38.01</td>\n",
       "      <td>2.572</td>\n",
       "      <td>0.00</td>\n",
       "      <td>0.0</td>\n",
       "      <td>0.0</td>\n",
       "      <td>0.0</td>\n",
       "      <td>NaN</td>\n",
       "      <td>214.655459</td>\n",
       "      <td>6.415</td>\n",
       "      <td>B</td>\n",
       "      <td>125833</td>\n",
       "    </tr>\n",
       "    <tr>\n",
       "      <td>...</td>\n",
       "      <td>...</td>\n",
       "      <td>...</td>\n",
       "      <td>...</td>\n",
       "      <td>...</td>\n",
       "      <td>...</td>\n",
       "      <td>...</td>\n",
       "      <td>...</td>\n",
       "      <td>...</td>\n",
       "      <td>...</td>\n",
       "      <td>...</td>\n",
       "      <td>...</td>\n",
       "      <td>...</td>\n",
       "      <td>...</td>\n",
       "      <td>...</td>\n",
       "      <td>...</td>\n",
       "      <td>...</td>\n",
       "    </tr>\n",
       "    <tr>\n",
       "      <td>313802</td>\n",
       "      <td>32</td>\n",
       "      <td>97</td>\n",
       "      <td>2011-08-19</td>\n",
       "      <td>18670.20</td>\n",
       "      <td>False</td>\n",
       "      <td>73.72</td>\n",
       "      <td>3.499</td>\n",
       "      <td>0.00</td>\n",
       "      <td>0.0</td>\n",
       "      <td>0.0</td>\n",
       "      <td>0.0</td>\n",
       "      <td>NaN</td>\n",
       "      <td>194.250063</td>\n",
       "      <td>8.622</td>\n",
       "      <td>A</td>\n",
       "      <td>203007</td>\n",
       "    </tr>\n",
       "    <tr>\n",
       "      <td>413781</td>\n",
       "      <td>45</td>\n",
       "      <td>13</td>\n",
       "      <td>2012-08-17</td>\n",
       "      <td>28507.09</td>\n",
       "      <td>False</td>\n",
       "      <td>75.71</td>\n",
       "      <td>3.807</td>\n",
       "      <td>3657.79</td>\n",
       "      <td>6.0</td>\n",
       "      <td>0.3</td>\n",
       "      <td>1630.5</td>\n",
       "      <td>3794.22</td>\n",
       "      <td>191.228492</td>\n",
       "      <td>8.684</td>\n",
       "      <td>B</td>\n",
       "      <td>118221</td>\n",
       "    </tr>\n",
       "    <tr>\n",
       "      <td>85719</td>\n",
       "      <td>9</td>\n",
       "      <td>72</td>\n",
       "      <td>2010-08-27</td>\n",
       "      <td>30852.97</td>\n",
       "      <td>False</td>\n",
       "      <td>84.01</td>\n",
       "      <td>2.619</td>\n",
       "      <td>0.00</td>\n",
       "      <td>0.0</td>\n",
       "      <td>0.0</td>\n",
       "      <td>0.0</td>\n",
       "      <td>NaN</td>\n",
       "      <td>215.119954</td>\n",
       "      <td>6.442</td>\n",
       "      <td>B</td>\n",
       "      <td>125833</td>\n",
       "    </tr>\n",
       "    <tr>\n",
       "      <td>4609</td>\n",
       "      <td>1</td>\n",
       "      <td>34</td>\n",
       "      <td>2011-04-22</td>\n",
       "      <td>10357.32</td>\n",
       "      <td>False</td>\n",
       "      <td>72.99</td>\n",
       "      <td>3.807</td>\n",
       "      <td>0.00</td>\n",
       "      <td>0.0</td>\n",
       "      <td>0.0</td>\n",
       "      <td>0.0</td>\n",
       "      <td>NaN</td>\n",
       "      <td>215.459905</td>\n",
       "      <td>7.682</td>\n",
       "      <td>A</td>\n",
       "      <td>151315</td>\n",
       "    </tr>\n",
       "    <tr>\n",
       "      <td>112370</td>\n",
       "      <td>12</td>\n",
       "      <td>33</td>\n",
       "      <td>2011-05-06</td>\n",
       "      <td>9105.98</td>\n",
       "      <td>False</td>\n",
       "      <td>68.40</td>\n",
       "      <td>4.193</td>\n",
       "      <td>0.00</td>\n",
       "      <td>0.0</td>\n",
       "      <td>0.0</td>\n",
       "      <td>0.0</td>\n",
       "      <td>NaN</td>\n",
       "      <td>129.044433</td>\n",
       "      <td>13.736</td>\n",
       "      <td>B</td>\n",
       "      <td>112238</td>\n",
       "    </tr>\n",
       "  </tbody>\n",
       "</table>\n",
       "<p>50000 rows × 16 columns</p>\n",
       "</div>"
      ],
      "text/plain": [
       "        Store  Dept        Date  Weekly_Sales  IsHoliday  Temperature  \\\n",
       "348661     37    17  2010-05-28        249.56      False        80.87   \n",
       "181501     19    33  2010-12-10       9501.13      False        25.12   \n",
       "253769     26    60  2011-03-25         96.80      False        22.99   \n",
       "298158     31    33  2010-11-05       7145.63      False        58.71   \n",
       "85833       9    74  2010-02-05       8076.88      False        38.01   \n",
       "...       ...   ...         ...           ...        ...          ...   \n",
       "313802     32    97  2011-08-19      18670.20      False        73.72   \n",
       "413781     45    13  2012-08-17      28507.09      False        75.71   \n",
       "85719       9    72  2010-08-27      30852.97      False        84.01   \n",
       "4609        1    34  2011-04-22      10357.32      False        72.99   \n",
       "112370     12    33  2011-05-06       9105.98      False        68.40   \n",
       "\n",
       "        Fuel_Price  MarkDown1  MarkDown2  MarkDown3  MarkDown4  MarkDown5  \\\n",
       "348661       2.759       0.00        0.0        0.0        0.0        NaN   \n",
       "181501       3.255       0.00        0.0        0.0        0.0        NaN   \n",
       "253769       3.624       0.00        0.0        0.0        0.0        NaN   \n",
       "298158       2.689       0.00        0.0        0.0        0.0        NaN   \n",
       "85833        2.572       0.00        0.0        0.0        0.0        NaN   \n",
       "...            ...        ...        ...        ...        ...        ...   \n",
       "313802       3.499       0.00        0.0        0.0        0.0        NaN   \n",
       "413781       3.807    3657.79        6.0        0.3     1630.5    3794.22   \n",
       "85719        2.619       0.00        0.0        0.0        0.0        NaN   \n",
       "4609         3.807       0.00        0.0        0.0        0.0        NaN   \n",
       "112370       4.193       0.00        0.0        0.0        0.0        NaN   \n",
       "\n",
       "               CPI  Unemployment Type    Size  \n",
       "348661  209.666051         8.464    C   39910  \n",
       "181501  132.676400         8.067    A  203819  \n",
       "253769  133.958742         7.907    A  152513  \n",
       "298158  211.613505         8.163    A  203750  \n",
       "85833   214.655459         6.415    B  125833  \n",
       "...            ...           ...  ...     ...  \n",
       "313802  194.250063         8.622    A  203007  \n",
       "413781  191.228492         8.684    B  118221  \n",
       "85719   215.119954         6.442    B  125833  \n",
       "4609    215.459905         7.682    A  151315  \n",
       "112370  129.044433        13.736    B  112238  \n",
       "\n",
       "[50000 rows x 16 columns]"
      ]
     },
     "execution_count": 15,
     "metadata": {},
     "output_type": "execute_result"
    }
   ],
   "source": [
    "data.MarkDown4 = data.MarkDown4.fillna(0)\n",
    "data"
   ]
  },
  {
   "cell_type": "code",
   "execution_count": 16,
   "metadata": {},
   "outputs": [
    {
     "data": {
      "text/html": [
       "<div>\n",
       "<style scoped>\n",
       "    .dataframe tbody tr th:only-of-type {\n",
       "        vertical-align: middle;\n",
       "    }\n",
       "\n",
       "    .dataframe tbody tr th {\n",
       "        vertical-align: top;\n",
       "    }\n",
       "\n",
       "    .dataframe thead th {\n",
       "        text-align: right;\n",
       "    }\n",
       "</style>\n",
       "<table border=\"1\" class=\"dataframe\">\n",
       "  <thead>\n",
       "    <tr style=\"text-align: right;\">\n",
       "      <th></th>\n",
       "      <th>Store</th>\n",
       "      <th>Dept</th>\n",
       "      <th>Date</th>\n",
       "      <th>Weekly_Sales</th>\n",
       "      <th>IsHoliday</th>\n",
       "      <th>Temperature</th>\n",
       "      <th>Fuel_Price</th>\n",
       "      <th>MarkDown1</th>\n",
       "      <th>MarkDown2</th>\n",
       "      <th>MarkDown3</th>\n",
       "      <th>MarkDown4</th>\n",
       "      <th>MarkDown5</th>\n",
       "      <th>CPI</th>\n",
       "      <th>Unemployment</th>\n",
       "      <th>Type</th>\n",
       "      <th>Size</th>\n",
       "    </tr>\n",
       "  </thead>\n",
       "  <tbody>\n",
       "    <tr>\n",
       "      <td>348661</td>\n",
       "      <td>37</td>\n",
       "      <td>17</td>\n",
       "      <td>2010-05-28</td>\n",
       "      <td>249.56</td>\n",
       "      <td>False</td>\n",
       "      <td>80.87</td>\n",
       "      <td>2.759</td>\n",
       "      <td>0.00</td>\n",
       "      <td>0.0</td>\n",
       "      <td>0.0</td>\n",
       "      <td>0.0</td>\n",
       "      <td>0.00</td>\n",
       "      <td>209.666051</td>\n",
       "      <td>8.464</td>\n",
       "      <td>C</td>\n",
       "      <td>39910</td>\n",
       "    </tr>\n",
       "    <tr>\n",
       "      <td>181501</td>\n",
       "      <td>19</td>\n",
       "      <td>33</td>\n",
       "      <td>2010-12-10</td>\n",
       "      <td>9501.13</td>\n",
       "      <td>False</td>\n",
       "      <td>25.12</td>\n",
       "      <td>3.255</td>\n",
       "      <td>0.00</td>\n",
       "      <td>0.0</td>\n",
       "      <td>0.0</td>\n",
       "      <td>0.0</td>\n",
       "      <td>0.00</td>\n",
       "      <td>132.676400</td>\n",
       "      <td>8.067</td>\n",
       "      <td>A</td>\n",
       "      <td>203819</td>\n",
       "    </tr>\n",
       "    <tr>\n",
       "      <td>253769</td>\n",
       "      <td>26</td>\n",
       "      <td>60</td>\n",
       "      <td>2011-03-25</td>\n",
       "      <td>96.80</td>\n",
       "      <td>False</td>\n",
       "      <td>22.99</td>\n",
       "      <td>3.624</td>\n",
       "      <td>0.00</td>\n",
       "      <td>0.0</td>\n",
       "      <td>0.0</td>\n",
       "      <td>0.0</td>\n",
       "      <td>0.00</td>\n",
       "      <td>133.958742</td>\n",
       "      <td>7.907</td>\n",
       "      <td>A</td>\n",
       "      <td>152513</td>\n",
       "    </tr>\n",
       "    <tr>\n",
       "      <td>298158</td>\n",
       "      <td>31</td>\n",
       "      <td>33</td>\n",
       "      <td>2010-11-05</td>\n",
       "      <td>7145.63</td>\n",
       "      <td>False</td>\n",
       "      <td>58.71</td>\n",
       "      <td>2.689</td>\n",
       "      <td>0.00</td>\n",
       "      <td>0.0</td>\n",
       "      <td>0.0</td>\n",
       "      <td>0.0</td>\n",
       "      <td>0.00</td>\n",
       "      <td>211.613505</td>\n",
       "      <td>8.163</td>\n",
       "      <td>A</td>\n",
       "      <td>203750</td>\n",
       "    </tr>\n",
       "    <tr>\n",
       "      <td>85833</td>\n",
       "      <td>9</td>\n",
       "      <td>74</td>\n",
       "      <td>2010-02-05</td>\n",
       "      <td>8076.88</td>\n",
       "      <td>False</td>\n",
       "      <td>38.01</td>\n",
       "      <td>2.572</td>\n",
       "      <td>0.00</td>\n",
       "      <td>0.0</td>\n",
       "      <td>0.0</td>\n",
       "      <td>0.0</td>\n",
       "      <td>0.00</td>\n",
       "      <td>214.655459</td>\n",
       "      <td>6.415</td>\n",
       "      <td>B</td>\n",
       "      <td>125833</td>\n",
       "    </tr>\n",
       "    <tr>\n",
       "      <td>...</td>\n",
       "      <td>...</td>\n",
       "      <td>...</td>\n",
       "      <td>...</td>\n",
       "      <td>...</td>\n",
       "      <td>...</td>\n",
       "      <td>...</td>\n",
       "      <td>...</td>\n",
       "      <td>...</td>\n",
       "      <td>...</td>\n",
       "      <td>...</td>\n",
       "      <td>...</td>\n",
       "      <td>...</td>\n",
       "      <td>...</td>\n",
       "      <td>...</td>\n",
       "      <td>...</td>\n",
       "      <td>...</td>\n",
       "    </tr>\n",
       "    <tr>\n",
       "      <td>313802</td>\n",
       "      <td>32</td>\n",
       "      <td>97</td>\n",
       "      <td>2011-08-19</td>\n",
       "      <td>18670.20</td>\n",
       "      <td>False</td>\n",
       "      <td>73.72</td>\n",
       "      <td>3.499</td>\n",
       "      <td>0.00</td>\n",
       "      <td>0.0</td>\n",
       "      <td>0.0</td>\n",
       "      <td>0.0</td>\n",
       "      <td>0.00</td>\n",
       "      <td>194.250063</td>\n",
       "      <td>8.622</td>\n",
       "      <td>A</td>\n",
       "      <td>203007</td>\n",
       "    </tr>\n",
       "    <tr>\n",
       "      <td>413781</td>\n",
       "      <td>45</td>\n",
       "      <td>13</td>\n",
       "      <td>2012-08-17</td>\n",
       "      <td>28507.09</td>\n",
       "      <td>False</td>\n",
       "      <td>75.71</td>\n",
       "      <td>3.807</td>\n",
       "      <td>3657.79</td>\n",
       "      <td>6.0</td>\n",
       "      <td>0.3</td>\n",
       "      <td>1630.5</td>\n",
       "      <td>3794.22</td>\n",
       "      <td>191.228492</td>\n",
       "      <td>8.684</td>\n",
       "      <td>B</td>\n",
       "      <td>118221</td>\n",
       "    </tr>\n",
       "    <tr>\n",
       "      <td>85719</td>\n",
       "      <td>9</td>\n",
       "      <td>72</td>\n",
       "      <td>2010-08-27</td>\n",
       "      <td>30852.97</td>\n",
       "      <td>False</td>\n",
       "      <td>84.01</td>\n",
       "      <td>2.619</td>\n",
       "      <td>0.00</td>\n",
       "      <td>0.0</td>\n",
       "      <td>0.0</td>\n",
       "      <td>0.0</td>\n",
       "      <td>0.00</td>\n",
       "      <td>215.119954</td>\n",
       "      <td>6.442</td>\n",
       "      <td>B</td>\n",
       "      <td>125833</td>\n",
       "    </tr>\n",
       "    <tr>\n",
       "      <td>4609</td>\n",
       "      <td>1</td>\n",
       "      <td>34</td>\n",
       "      <td>2011-04-22</td>\n",
       "      <td>10357.32</td>\n",
       "      <td>False</td>\n",
       "      <td>72.99</td>\n",
       "      <td>3.807</td>\n",
       "      <td>0.00</td>\n",
       "      <td>0.0</td>\n",
       "      <td>0.0</td>\n",
       "      <td>0.0</td>\n",
       "      <td>0.00</td>\n",
       "      <td>215.459905</td>\n",
       "      <td>7.682</td>\n",
       "      <td>A</td>\n",
       "      <td>151315</td>\n",
       "    </tr>\n",
       "    <tr>\n",
       "      <td>112370</td>\n",
       "      <td>12</td>\n",
       "      <td>33</td>\n",
       "      <td>2011-05-06</td>\n",
       "      <td>9105.98</td>\n",
       "      <td>False</td>\n",
       "      <td>68.40</td>\n",
       "      <td>4.193</td>\n",
       "      <td>0.00</td>\n",
       "      <td>0.0</td>\n",
       "      <td>0.0</td>\n",
       "      <td>0.0</td>\n",
       "      <td>0.00</td>\n",
       "      <td>129.044433</td>\n",
       "      <td>13.736</td>\n",
       "      <td>B</td>\n",
       "      <td>112238</td>\n",
       "    </tr>\n",
       "  </tbody>\n",
       "</table>\n",
       "<p>50000 rows × 16 columns</p>\n",
       "</div>"
      ],
      "text/plain": [
       "        Store  Dept        Date  Weekly_Sales  IsHoliday  Temperature  \\\n",
       "348661     37    17  2010-05-28        249.56      False        80.87   \n",
       "181501     19    33  2010-12-10       9501.13      False        25.12   \n",
       "253769     26    60  2011-03-25         96.80      False        22.99   \n",
       "298158     31    33  2010-11-05       7145.63      False        58.71   \n",
       "85833       9    74  2010-02-05       8076.88      False        38.01   \n",
       "...       ...   ...         ...           ...        ...          ...   \n",
       "313802     32    97  2011-08-19      18670.20      False        73.72   \n",
       "413781     45    13  2012-08-17      28507.09      False        75.71   \n",
       "85719       9    72  2010-08-27      30852.97      False        84.01   \n",
       "4609        1    34  2011-04-22      10357.32      False        72.99   \n",
       "112370     12    33  2011-05-06       9105.98      False        68.40   \n",
       "\n",
       "        Fuel_Price  MarkDown1  MarkDown2  MarkDown3  MarkDown4  MarkDown5  \\\n",
       "348661       2.759       0.00        0.0        0.0        0.0       0.00   \n",
       "181501       3.255       0.00        0.0        0.0        0.0       0.00   \n",
       "253769       3.624       0.00        0.0        0.0        0.0       0.00   \n",
       "298158       2.689       0.00        0.0        0.0        0.0       0.00   \n",
       "85833        2.572       0.00        0.0        0.0        0.0       0.00   \n",
       "...            ...        ...        ...        ...        ...        ...   \n",
       "313802       3.499       0.00        0.0        0.0        0.0       0.00   \n",
       "413781       3.807    3657.79        6.0        0.3     1630.5    3794.22   \n",
       "85719        2.619       0.00        0.0        0.0        0.0       0.00   \n",
       "4609         3.807       0.00        0.0        0.0        0.0       0.00   \n",
       "112370       4.193       0.00        0.0        0.0        0.0       0.00   \n",
       "\n",
       "               CPI  Unemployment Type    Size  \n",
       "348661  209.666051         8.464    C   39910  \n",
       "181501  132.676400         8.067    A  203819  \n",
       "253769  133.958742         7.907    A  152513  \n",
       "298158  211.613505         8.163    A  203750  \n",
       "85833   214.655459         6.415    B  125833  \n",
       "...            ...           ...  ...     ...  \n",
       "313802  194.250063         8.622    A  203007  \n",
       "413781  191.228492         8.684    B  118221  \n",
       "85719   215.119954         6.442    B  125833  \n",
       "4609    215.459905         7.682    A  151315  \n",
       "112370  129.044433        13.736    B  112238  \n",
       "\n",
       "[50000 rows x 16 columns]"
      ]
     },
     "execution_count": 16,
     "metadata": {},
     "output_type": "execute_result"
    }
   ],
   "source": [
    "data.MarkDown5 = data.MarkDown5.fillna(0)\n",
    "data"
   ]
  },
  {
   "cell_type": "markdown",
   "metadata": {},
   "source": [
    "# Exploratory Data Analysis"
   ]
  },
  {
   "cell_type": "code",
   "execution_count": 17,
   "metadata": {},
   "outputs": [
    {
     "name": "stdout",
     "output_type": "stream",
     "text": [
      "<class 'pandas.core.frame.DataFrame'>\n",
      "Int64Index: 50000 entries, 348661 to 112370\n",
      "Data columns (total 16 columns):\n",
      "Store           50000 non-null int64\n",
      "Dept            50000 non-null int64\n",
      "Date            50000 non-null object\n",
      "Weekly_Sales    50000 non-null float64\n",
      "IsHoliday       50000 non-null bool\n",
      "Temperature     50000 non-null float64\n",
      "Fuel_Price      50000 non-null float64\n",
      "MarkDown1       50000 non-null float64\n",
      "MarkDown2       50000 non-null float64\n",
      "MarkDown3       50000 non-null float64\n",
      "MarkDown4       50000 non-null float64\n",
      "MarkDown5       50000 non-null float64\n",
      "CPI             50000 non-null float64\n",
      "Unemployment    50000 non-null float64\n",
      "Type            50000 non-null object\n",
      "Size            50000 non-null int64\n",
      "dtypes: bool(1), float64(10), int64(3), object(2)\n",
      "memory usage: 6.2+ MB\n"
     ]
    }
   ],
   "source": [
    "data.info()"
   ]
  },
  {
   "cell_type": "markdown",
   "metadata": {},
   "source": [
    "# Single Variable Analysis"
   ]
  },
  {
   "cell_type": "code",
   "execution_count": 18,
   "metadata": {},
   "outputs": [
    {
     "data": {
      "text/plain": [
       "348661    37\n",
       "181501    19\n",
       "253769    26\n",
       "298158    31\n",
       "85833      9\n",
       "85146      9\n",
       "319675    33\n",
       "273083    28\n",
       "42455      5\n",
       "19169      2\n",
       "Name: Store, dtype: int64"
      ]
     },
     "execution_count": 18,
     "metadata": {},
     "output_type": "execute_result"
    }
   ],
   "source": [
    "data['Store'][:10]"
   ]
  },
  {
   "cell_type": "code",
   "execution_count": 19,
   "metadata": {},
   "outputs": [
    {
     "data": {
      "text/plain": [
       "2     1279\n",
       "15    1258\n",
       "13    1253\n",
       "34    1238\n",
       "27    1231\n",
       "1     1223\n",
       "11    1220\n",
       "23    1218\n",
       "20    1215\n",
       "10    1214\n",
       "14    1203\n",
       "24    1203\n",
       "19    1201\n",
       "32    1199\n",
       "41    1191\n",
       "40    1186\n",
       "25    1181\n",
       "26    1180\n",
       "18    1179\n",
       "4     1175\n",
       "17    1174\n",
       "39    1172\n",
       "6     1164\n",
       "28    1158\n",
       "8     1151\n",
       "7     1142\n",
       "31    1141\n",
       "21    1141\n",
       "35    1139\n",
       "12    1135\n",
       "16    1127\n",
       "45    1123\n",
       "22    1114\n",
       "29    1114\n",
       "9     1087\n",
       "5     1063\n",
       "3     1061\n",
       "38     870\n",
       "37     853\n",
       "44     841\n",
       "30     833\n",
       "43     812\n",
       "33     803\n",
       "42     782\n",
       "36     753\n",
       "Name: Store, dtype: int64"
      ]
     },
     "execution_count": 19,
     "metadata": {},
     "output_type": "execute_result"
    }
   ],
   "source": [
    "data['Store'].value_counts(ascending = False)"
   ]
  },
  {
   "cell_type": "code",
   "execution_count": 20,
   "metadata": {},
   "outputs": [
    {
     "data": {
      "image/png": "[encoded data removed]",
      "text/plain": [
       "<Figure size 864x432 with 1 Axes>"
      ]
     },
     "metadata": {
      "needs_background": "light"
     },
     "output_type": "display_data"
    }
   ],
   "source": [
    "plt.figure(figsize=(12,6))\n",
    "sns.distplot(data['Store'],color='g')\n",
    "plt.show()"
   ]
  },
  {
   "cell_type": "code",
   "execution_count": 21,
   "metadata": {},
   "outputs": [
    {
     "data": {
      "text/plain": [
       "82    812\n",
       "3     802\n",
       "8     797\n",
       "21    793\n",
       "38    781\n",
       "     ... \n",
       "78     28\n",
       "77     18\n",
       "65     11\n",
       "39      3\n",
       "43      1\n",
       "Name: Dept, Length: 81, dtype: int64"
      ]
     },
     "execution_count": 21,
     "metadata": {},
     "output_type": "execute_result"
    }
   ],
   "source": [
    "data['Dept'].value_counts(ascending = False)"
   ]
  },
  {
   "cell_type": "code",
   "execution_count": 22,
   "metadata": {},
   "outputs": [
    {
     "data": {
      "image/png": "[encoded data removed]",
      "text/plain": [
       "<Figure size 864x432 with 1 Axes>"
      ]
     },
     "metadata": {
      "needs_background": "light"
     },
     "output_type": "display_data"
    }
   ],
   "source": [
    "plt.figure(figsize=(12,6))\n",
    "sns.distplot(data['Dept'])\n",
    "plt.show()"
   ]
  },
  {
   "cell_type": "code",
   "execution_count": 23,
   "metadata": {},
   "outputs": [
    {
     "data": {
      "text/plain": [
       "10.00       39\n",
       "5.00        35\n",
       "20.00       33\n",
       "1.00        28\n",
       "15.00       25\n",
       "            ..\n",
       "14853.84     1\n",
       "67740.71     1\n",
       "29041.46     1\n",
       "90484.90     1\n",
       "34171.61     1\n",
       "Name: Weekly_Sales, Length: 47344, dtype: int64"
      ]
     },
     "execution_count": 23,
     "metadata": {},
     "output_type": "execute_result"
    }
   ],
   "source": [
    "data['Weekly_Sales'].value_counts(ascending = False)"
   ]
  },
  {
   "cell_type": "code",
   "execution_count": 24,
   "metadata": {},
   "outputs": [
    {
     "data": {
      "image/png": "[encoded data removed]",
      "text/plain": [
       "<Figure size 864x432 with 1 Axes>"
      ]
     },
     "metadata": {
      "needs_background": "light"
     },
     "output_type": "display_data"
    }
   ],
   "source": [
    "plt.figure(figsize=(12,6))\n",
    "sns.distplot(data['Weekly_Sales'],color='g')\n",
    "plt.show()"
   ]
  },
  {
   "cell_type": "code",
   "execution_count": 25,
   "metadata": {},
   "outputs": [
    {
     "data": {
      "text/plain": [
       "False    46539\n",
       "True      3461\n",
       "Name: IsHoliday, dtype: int64"
      ]
     },
     "execution_count": 25,
     "metadata": {},
     "output_type": "execute_result"
    }
   ],
   "source": [
    "data['IsHoliday'].value_counts(ascending = False)"
   ]
  },
  {
   "cell_type": "code",
   "execution_count": 26,
   "metadata": {},
   "outputs": [
    {
     "data": {
      "text/plain": [
       "False    0.93078\n",
       "True     0.06922\n",
       "Name: IsHoliday, dtype: float64"
      ]
     },
     "execution_count": 26,
     "metadata": {},
     "output_type": "execute_result"
    }
   ],
   "source": [
    "data['IsHoliday'].value_counts(normalize = True)"
   ]
  },
  {
   "cell_type": "code",
   "execution_count": 27,
   "metadata": {},
   "outputs": [
    {
     "data": {
      "image/png": "[encoded data removed]",
      "text/plain": [
       "<Figure size 432x288 with 1 Axes>"
      ]
     },
     "metadata": {
      "needs_background": "light"
     },
     "output_type": "display_data"
    }
   ],
   "source": [
    "sns.countplot(data['IsHoliday'])\n",
    "plt.show()"
   ]
  },
  {
   "cell_type": "code",
   "execution_count": 28,
   "metadata": {},
   "outputs": [
    {
     "data": {
      "text/plain": [
       "348661    80.87\n",
       "181501    25.12\n",
       "253769    22.99\n",
       "298158    58.71\n",
       "85833     38.01\n",
       "85146     49.38\n",
       "319675    56.50\n",
       "273083    57.79\n",
       "42455     89.42\n",
       "19169     81.13\n",
       "Name: Temperature, dtype: float64"
      ]
     },
     "execution_count": 28,
     "metadata": {},
     "output_type": "execute_result"
    }
   ],
   "source": [
    "data['Temperature'][:10]"
   ]
  },
  {
   "cell_type": "code",
   "execution_count": 29,
   "metadata": {},
   "outputs": [
    {
     "data": {
      "image/png": "[encoded data removed]",
      "text/plain": [
       "<Figure size 1152x576 with 1 Axes>"
      ]
     },
     "metadata": {
      "needs_background": "light"
     },
     "output_type": "display_data"
    }
   ],
   "source": [
    "plt.figure(figsize=(16,8))\n",
    "sns.distplot(data['Temperature'],color='r')\n",
    "plt.show()"
   ]
  },
  {
   "cell_type": "code",
   "execution_count": 30,
   "metadata": {},
   "outputs": [
    {
     "data": {
      "text/plain": [
       "348661    2.759\n",
       "181501    3.255\n",
       "253769    3.624\n",
       "298158    2.689\n",
       "85833     2.572\n",
       "85146     3.290\n",
       "319675    2.825\n",
       "273083    3.130\n",
       "42455     3.682\n",
       "19169     2.759\n",
       "Name: Fuel_Price, dtype: float64"
      ]
     },
     "execution_count": 30,
     "metadata": {},
     "output_type": "execute_result"
    }
   ],
   "source": [
    "data['Fuel_Price'][:10]"
   ]
  },
  {
   "cell_type": "code",
   "execution_count": 31,
   "metadata": {},
   "outputs": [
    {
     "data": {
      "image/png": "[encoded data removed]",
      "text/plain": [
       "<Figure size 1152x576 with 1 Axes>"
      ]
     },
     "metadata": {
      "needs_background": "light"
     },
     "output_type": "display_data"
    }
   ],
   "source": [
    "plt.figure(figsize=(16,8))\n",
    "sns.distplot(data['Fuel_Price'],color='b')\n",
    "plt.show()"
   ]
  },
  {
   "cell_type": "code",
   "execution_count": 32,
   "metadata": {},
   "outputs": [
    {
     "data": {
      "text/plain": [
       "348661    209.666051\n",
       "181501    132.676400\n",
       "253769    133.958742\n",
       "298158    211.613505\n",
       "85833     214.655459\n",
       "85146     223.806053\n",
       "319675    126.552286\n",
       "273083    126.546161\n",
       "42455     216.046436\n",
       "19169     210.555230\n",
       "Name: CPI, dtype: float64"
      ]
     },
     "execution_count": 32,
     "metadata": {},
     "output_type": "execute_result"
    }
   ],
   "source": [
    "data['CPI'][:10]"
   ]
  },
  {
   "cell_type": "code",
   "execution_count": 33,
   "metadata": {},
   "outputs": [
    {
     "data": {
      "image/png": "[encoded data removed]",
      "text/plain": [
       "<Figure size 1152x576 with 1 Axes>"
      ]
     },
     "metadata": {
      "needs_background": "light"
     },
     "output_type": "display_data"
    }
   ],
   "source": [
    "plt.figure(figsize=(16,8))\n",
    "sns.distplot(data['CPI'],color='y')\n",
    "plt.show()"
   ]
  },
  {
   "cell_type": "code",
   "execution_count": 34,
   "metadata": {},
   "outputs": [
    {
     "data": {
      "text/plain": [
       "348661     8.464\n",
       "181501     8.067\n",
       "253769     7.907\n",
       "298158     8.163\n",
       "85833      6.415\n",
       "85146      5.667\n",
       "319675    10.115\n",
       "273083    14.313\n",
       "42455      6.529\n",
       "19169      8.200\n",
       "Name: Unemployment, dtype: float64"
      ]
     },
     "execution_count": 34,
     "metadata": {},
     "output_type": "execute_result"
    }
   ],
   "source": [
    "data['Unemployment'][:10]"
   ]
  },
  {
   "cell_type": "code",
   "execution_count": 35,
   "metadata": {},
   "outputs": [
    {
     "data": {
      "image/png": "[encoded data removed]",
      "text/plain": [
       "<Figure size 1152x576 with 1 Axes>"
      ]
     },
     "metadata": {
      "needs_background": "light"
     },
     "output_type": "display_data"
    }
   ],
   "source": [
    "plt.figure(figsize=(16,8))\n",
    "sns.distplot(data['Unemployment'],color='g')\n",
    "plt.show()"
   ]
  },
  {
   "cell_type": "code",
   "execution_count": 36,
   "metadata": {},
   "outputs": [
    {
     "data": {
      "text/plain": [
       "348661    C\n",
       "181501    A\n",
       "253769    A\n",
       "298158    A\n",
       "85833     B\n",
       "85146     B\n",
       "319675    A\n",
       "273083    A\n",
       "42455     B\n",
       "19169     A\n",
       "Name: Type, dtype: object"
      ]
     },
     "execution_count": 36,
     "metadata": {},
     "output_type": "execute_result"
    }
   ],
   "source": [
    "data['Type'][:10]"
   ]
  },
  {
   "cell_type": "code",
   "execution_count": 37,
   "metadata": {},
   "outputs": [
    {
     "data": {
      "text/plain": [
       "A    25539\n",
       "B    19470\n",
       "C     4991\n",
       "Name: Type, dtype: int64"
      ]
     },
     "execution_count": 37,
     "metadata": {},
     "output_type": "execute_result"
    }
   ],
   "source": [
    "data['Type'].value_counts()"
   ]
  },
  {
   "cell_type": "code",
   "execution_count": 38,
   "metadata": {},
   "outputs": [
    {
     "data": {
      "text/plain": [
       "A    0.51078\n",
       "B    0.38940\n",
       "C    0.09982\n",
       "Name: Type, dtype: float64"
      ]
     },
     "execution_count": 38,
     "metadata": {},
     "output_type": "execute_result"
    }
   ],
   "source": [
    "data['Type'].value_counts(normalize = True)"
   ]
  },
  {
   "cell_type": "code",
   "execution_count": 39,
   "metadata": {},
   "outputs": [
    {
     "data": {
      "image/png": "[encoded data removed]",
      "text/plain": [
       "<Figure size 432x288 with 1 Axes>"
      ]
     },
     "metadata": {
      "needs_background": "light"
     },
     "output_type": "display_data"
    }
   ],
   "source": [
    "sns.countplot(data['Type'])\n",
    "plt.show()"
   ]
  },
  {
   "cell_type": "code",
   "execution_count": 40,
   "metadata": {},
   "outputs": [
    {
     "data": {
      "text/plain": [
       "348661     39910\n",
       "181501    203819\n",
       "253769    152513\n",
       "298158    203750\n",
       "85833     125833\n",
       "85146     125833\n",
       "319675     39690\n",
       "273083    206302\n",
       "42455      34875\n",
       "19169     202307\n",
       "Name: Size, dtype: int64"
      ]
     },
     "execution_count": 40,
     "metadata": {},
     "output_type": "execute_result"
    }
   ],
   "source": [
    "data['Size'][:10]"
   ]
  },
  {
   "cell_type": "code",
   "execution_count": 41,
   "metadata": {},
   "outputs": [
    {
     "data": {
      "image/png": "[encoded data removed]",
      "text/plain": [
       "<Figure size 1152x576 with 1 Axes>"
      ]
     },
     "metadata": {
      "needs_background": "light"
     },
     "output_type": "display_data"
    }
   ],
   "source": [
    "plt.figure(figsize=(16,8))\n",
    "sns.distplot(data['Size'],color='b')\n",
    "plt.show()"
   ]
  },
  {
   "cell_type": "code",
   "execution_count": 42,
   "metadata": {},
   "outputs": [],
   "source": [
    "data.to_csv('walmart_50k.csv',index = False)"
   ]
  },
  {
   "cell_type": "code",
   "execution_count": 43,
   "metadata": {},
   "outputs": [
    {
     "data": {
      "text/html": [
       "<div>\n",
       "<style scoped>\n",
       "    .dataframe tbody tr th:only-of-type {\n",
       "        vertical-align: middle;\n",
       "    }\n",
       "\n",
       "    .dataframe tbody tr th {\n",
       "        vertical-align: top;\n",
       "    }\n",
       "\n",
       "    .dataframe thead th {\n",
       "        text-align: right;\n",
       "    }\n",
       "</style>\n",
       "<table border=\"1\" class=\"dataframe\">\n",
       "  <thead>\n",
       "    <tr style=\"text-align: right;\">\n",
       "      <th></th>\n",
       "      <th>Store</th>\n",
       "      <th>Dept</th>\n",
       "      <th>Date</th>\n",
       "      <th>Weekly_Sales</th>\n",
       "      <th>IsHoliday</th>\n",
       "      <th>Temperature</th>\n",
       "      <th>Fuel_Price</th>\n",
       "      <th>MarkDown1</th>\n",
       "      <th>MarkDown2</th>\n",
       "      <th>MarkDown3</th>\n",
       "      <th>MarkDown4</th>\n",
       "      <th>MarkDown5</th>\n",
       "      <th>CPI</th>\n",
       "      <th>Unemployment</th>\n",
       "      <th>Type</th>\n",
       "      <th>Size</th>\n",
       "    </tr>\n",
       "  </thead>\n",
       "  <tbody>\n",
       "    <tr>\n",
       "      <td>0</td>\n",
       "      <td>37</td>\n",
       "      <td>17</td>\n",
       "      <td>2010-05-28</td>\n",
       "      <td>249.56</td>\n",
       "      <td>False</td>\n",
       "      <td>80.87</td>\n",
       "      <td>2.759</td>\n",
       "      <td>0.0</td>\n",
       "      <td>0.0</td>\n",
       "      <td>0.0</td>\n",
       "      <td>0.0</td>\n",
       "      <td>0.0</td>\n",
       "      <td>209.666051</td>\n",
       "      <td>8.464</td>\n",
       "      <td>C</td>\n",
       "      <td>39910</td>\n",
       "    </tr>\n",
       "    <tr>\n",
       "      <td>1</td>\n",
       "      <td>19</td>\n",
       "      <td>33</td>\n",
       "      <td>2010-12-10</td>\n",
       "      <td>9501.13</td>\n",
       "      <td>False</td>\n",
       "      <td>25.12</td>\n",
       "      <td>3.255</td>\n",
       "      <td>0.0</td>\n",
       "      <td>0.0</td>\n",
       "      <td>0.0</td>\n",
       "      <td>0.0</td>\n",
       "      <td>0.0</td>\n",
       "      <td>132.676400</td>\n",
       "      <td>8.067</td>\n",
       "      <td>A</td>\n",
       "      <td>203819</td>\n",
       "    </tr>\n",
       "    <tr>\n",
       "      <td>2</td>\n",
       "      <td>26</td>\n",
       "      <td>60</td>\n",
       "      <td>2011-03-25</td>\n",
       "      <td>96.80</td>\n",
       "      <td>False</td>\n",
       "      <td>22.99</td>\n",
       "      <td>3.624</td>\n",
       "      <td>0.0</td>\n",
       "      <td>0.0</td>\n",
       "      <td>0.0</td>\n",
       "      <td>0.0</td>\n",
       "      <td>0.0</td>\n",
       "      <td>133.958742</td>\n",
       "      <td>7.907</td>\n",
       "      <td>A</td>\n",
       "      <td>152513</td>\n",
       "    </tr>\n",
       "    <tr>\n",
       "      <td>3</td>\n",
       "      <td>31</td>\n",
       "      <td>33</td>\n",
       "      <td>2010-11-05</td>\n",
       "      <td>7145.63</td>\n",
       "      <td>False</td>\n",
       "      <td>58.71</td>\n",
       "      <td>2.689</td>\n",
       "      <td>0.0</td>\n",
       "      <td>0.0</td>\n",
       "      <td>0.0</td>\n",
       "      <td>0.0</td>\n",
       "      <td>0.0</td>\n",
       "      <td>211.613505</td>\n",
       "      <td>8.163</td>\n",
       "      <td>A</td>\n",
       "      <td>203750</td>\n",
       "    </tr>\n",
       "    <tr>\n",
       "      <td>4</td>\n",
       "      <td>9</td>\n",
       "      <td>74</td>\n",
       "      <td>2010-02-05</td>\n",
       "      <td>8076.88</td>\n",
       "      <td>False</td>\n",
       "      <td>38.01</td>\n",
       "      <td>2.572</td>\n",
       "      <td>0.0</td>\n",
       "      <td>0.0</td>\n",
       "      <td>0.0</td>\n",
       "      <td>0.0</td>\n",
       "      <td>0.0</td>\n",
       "      <td>214.655459</td>\n",
       "      <td>6.415</td>\n",
       "      <td>B</td>\n",
       "      <td>125833</td>\n",
       "    </tr>\n",
       "  </tbody>\n",
       "</table>\n",
       "</div>"
      ],
      "text/plain": [
       "   Store  Dept        Date  Weekly_Sales  IsHoliday  Temperature  Fuel_Price  \\\n",
       "0     37    17  2010-05-28        249.56      False        80.87       2.759   \n",
       "1     19    33  2010-12-10       9501.13      False        25.12       3.255   \n",
       "2     26    60  2011-03-25         96.80      False        22.99       3.624   \n",
       "3     31    33  2010-11-05       7145.63      False        58.71       2.689   \n",
       "4      9    74  2010-02-05       8076.88      False        38.01       2.572   \n",
       "\n",
       "   MarkDown1  MarkDown2  MarkDown3  MarkDown4  MarkDown5         CPI  \\\n",
       "0        0.0        0.0        0.0        0.0        0.0  209.666051   \n",
       "1        0.0        0.0        0.0        0.0        0.0  132.676400   \n",
       "2        0.0        0.0        0.0        0.0        0.0  133.958742   \n",
       "3        0.0        0.0        0.0        0.0        0.0  211.613505   \n",
       "4        0.0        0.0        0.0        0.0        0.0  214.655459   \n",
       "\n",
       "   Unemployment Type    Size  \n",
       "0         8.464    C   39910  \n",
       "1         8.067    A  203819  \n",
       "2         7.907    A  152513  \n",
       "3         8.163    A  203750  \n",
       "4         6.415    B  125833  "
      ]
     },
     "execution_count": 43,
     "metadata": {},
     "output_type": "execute_result"
    }
   ],
   "source": [
    "df = pd.read_csv('walmart_50k.csv')\n",
    "df.head()"
   ]
  },
  {
   "cell_type": "code",
   "execution_count": 44,
   "metadata": {},
   "outputs": [
    {
     "data": {
      "text/plain": [
       "(50000, 16)"
      ]
     },
     "execution_count": 44,
     "metadata": {},
     "output_type": "execute_result"
    }
   ],
   "source": [
    "df.shape"
   ]
  },
  {
   "cell_type": "code",
   "execution_count": 45,
   "metadata": {},
   "outputs": [
    {
     "name": "stdout",
     "output_type": "stream",
     "text": [
      "<class 'pandas.core.frame.DataFrame'>\n",
      "RangeIndex: 50000 entries, 0 to 49999\n",
      "Data columns (total 16 columns):\n",
      "Store           50000 non-null int64\n",
      "Dept            50000 non-null int64\n",
      "Date            50000 non-null object\n",
      "Weekly_Sales    50000 non-null float64\n",
      "IsHoliday       50000 non-null bool\n",
      "Temperature     50000 non-null float64\n",
      "Fuel_Price      50000 non-null float64\n",
      "MarkDown1       50000 non-null float64\n",
      "MarkDown2       50000 non-null float64\n",
      "MarkDown3       50000 non-null float64\n",
      "MarkDown4       50000 non-null float64\n",
      "MarkDown5       50000 non-null float64\n",
      "CPI             50000 non-null float64\n",
      "Unemployment    50000 non-null float64\n",
      "Type            50000 non-null object\n",
      "Size            50000 non-null int64\n",
      "dtypes: bool(1), float64(10), int64(3), object(2)\n",
      "memory usage: 5.8+ MB\n"
     ]
    }
   ],
   "source": [
    "df.info()"
   ]
  },
  {
   "cell_type": "code",
   "execution_count": 46,
   "metadata": {},
   "outputs": [
    {
     "data": {
      "text/plain": [
       "Index(['Store', 'Dept', 'Date', 'Weekly_Sales', 'IsHoliday', 'Temperature',\n",
       "       'Fuel_Price', 'MarkDown1', 'MarkDown2', 'MarkDown3', 'MarkDown4',\n",
       "       'MarkDown5', 'CPI', 'Unemployment', 'Type', 'Size'],\n",
       "      dtype='object')"
      ]
     },
     "execution_count": 46,
     "metadata": {},
     "output_type": "execute_result"
    }
   ],
   "source": [
    "df.columns"
   ]
  },
  {
   "cell_type": "code",
   "execution_count": 47,
   "metadata": {},
   "outputs": [
    {
     "data": {
      "text/plain": [
       "16"
      ]
     },
     "execution_count": 47,
     "metadata": {},
     "output_type": "execute_result"
    }
   ],
   "source": [
    "len(df.columns)"
   ]
  },
  {
   "cell_type": "markdown",
   "metadata": {},
   "source": [
    "# Correlation"
   ]
  },
  {
   "cell_type": "code",
   "execution_count": 48,
   "metadata": {},
   "outputs": [],
   "source": [
    "corr_matrix = df.corr()"
   ]
  },
  {
   "cell_type": "code",
   "execution_count": 49,
   "metadata": {},
   "outputs": [
    {
     "data": {
      "text/plain": [
       "Weekly_Sales    1.000000\n",
       "Size            0.240998\n",
       "Dept            0.143579\n",
       "MarkDown1       0.039839\n",
       "MarkDown5       0.039438\n",
       "MarkDown3       0.038997\n",
       "MarkDown4       0.034335\n",
       "MarkDown2       0.014134\n",
       "IsHoliday       0.009686\n",
       "Fuel_Price      0.001039\n",
       "Temperature     0.000846\n",
       "Unemployment   -0.021120\n",
       "CPI            -0.024192\n",
       "Store          -0.083689\n",
       "Name: Weekly_Sales, dtype: float64"
      ]
     },
     "execution_count": 49,
     "metadata": {},
     "output_type": "execute_result"
    }
   ],
   "source": [
    "corr_df = corr_matrix['Weekly_Sales'].sort_values(ascending = False)\n",
    "corr_df"
   ]
  },
  {
   "cell_type": "markdown",
   "metadata": {},
   "source": [
    "# Handling Categorical Data"
   ]
  },
  {
   "cell_type": "code",
   "execution_count": 50,
   "metadata": {},
   "outputs": [],
   "source": [
    "le_IsHoliday = LabelEncoder()\n",
    "df['IsHoliday'] = le_IsHoliday.fit_transform(df['IsHoliday'])"
   ]
  },
  {
   "cell_type": "code",
   "execution_count": 51,
   "metadata": {},
   "outputs": [
    {
     "data": {
      "text/plain": [
       "0    0\n",
       "1    0\n",
       "2    0\n",
       "3    0\n",
       "4    0\n",
       "Name: IsHoliday, dtype: int64"
      ]
     },
     "execution_count": 51,
     "metadata": {},
     "output_type": "execute_result"
    }
   ],
   "source": [
    "df['IsHoliday'][:5]"
   ]
  },
  {
   "cell_type": "code",
   "execution_count": 52,
   "metadata": {},
   "outputs": [
    {
     "data": {
      "text/plain": [
       "A    25539\n",
       "B    19470\n",
       "C     4991\n",
       "Name: Type, dtype: int64"
      ]
     },
     "execution_count": 52,
     "metadata": {},
     "output_type": "execute_result"
    }
   ],
   "source": [
    "df['Type'].value_counts()"
   ]
  },
  {
   "cell_type": "code",
   "execution_count": 53,
   "metadata": {},
   "outputs": [
    {
     "data": {
      "text/html": [
       "<div>\n",
       "<style scoped>\n",
       "    .dataframe tbody tr th:only-of-type {\n",
       "        vertical-align: middle;\n",
       "    }\n",
       "\n",
       "    .dataframe tbody tr th {\n",
       "        vertical-align: top;\n",
       "    }\n",
       "\n",
       "    .dataframe thead th {\n",
       "        text-align: right;\n",
       "    }\n",
       "</style>\n",
       "<table border=\"1\" class=\"dataframe\">\n",
       "  <thead>\n",
       "    <tr style=\"text-align: right;\">\n",
       "      <th></th>\n",
       "      <th>Type_B</th>\n",
       "      <th>Type_C</th>\n",
       "    </tr>\n",
       "  </thead>\n",
       "  <tbody>\n",
       "    <tr>\n",
       "      <td>0</td>\n",
       "      <td>0</td>\n",
       "      <td>1</td>\n",
       "    </tr>\n",
       "    <tr>\n",
       "      <td>1</td>\n",
       "      <td>0</td>\n",
       "      <td>0</td>\n",
       "    </tr>\n",
       "    <tr>\n",
       "      <td>2</td>\n",
       "      <td>0</td>\n",
       "      <td>0</td>\n",
       "    </tr>\n",
       "    <tr>\n",
       "      <td>3</td>\n",
       "      <td>0</td>\n",
       "      <td>0</td>\n",
       "    </tr>\n",
       "    <tr>\n",
       "      <td>4</td>\n",
       "      <td>1</td>\n",
       "      <td>0</td>\n",
       "    </tr>\n",
       "  </tbody>\n",
       "</table>\n",
       "</div>"
      ],
      "text/plain": [
       "   Type_B  Type_C\n",
       "0       0       1\n",
       "1       0       0\n",
       "2       0       0\n",
       "3       0       0\n",
       "4       1       0"
      ]
     },
     "execution_count": 53,
     "metadata": {},
     "output_type": "execute_result"
    }
   ],
   "source": [
    "type_df = pd.get_dummies(df['Type'],drop_first = True,prefix = 'Type')\n",
    "type_df.head()"
   ]
  },
  {
   "cell_type": "code",
   "execution_count": 54,
   "metadata": {},
   "outputs": [],
   "source": [
    "df = pd.concat([df,type_df],axis=1)"
   ]
  },
  {
   "cell_type": "code",
   "execution_count": 55,
   "metadata": {},
   "outputs": [
    {
     "data": {
      "text/html": [
       "<div>\n",
       "<style scoped>\n",
       "    .dataframe tbody tr th:only-of-type {\n",
       "        vertical-align: middle;\n",
       "    }\n",
       "\n",
       "    .dataframe tbody tr th {\n",
       "        vertical-align: top;\n",
       "    }\n",
       "\n",
       "    .dataframe thead th {\n",
       "        text-align: right;\n",
       "    }\n",
       "</style>\n",
       "<table border=\"1\" class=\"dataframe\">\n",
       "  <thead>\n",
       "    <tr style=\"text-align: right;\">\n",
       "      <th></th>\n",
       "      <th>Store</th>\n",
       "      <th>Dept</th>\n",
       "      <th>Date</th>\n",
       "      <th>Weekly_Sales</th>\n",
       "      <th>IsHoliday</th>\n",
       "      <th>Temperature</th>\n",
       "      <th>Fuel_Price</th>\n",
       "      <th>MarkDown1</th>\n",
       "      <th>MarkDown2</th>\n",
       "      <th>MarkDown3</th>\n",
       "      <th>MarkDown4</th>\n",
       "      <th>MarkDown5</th>\n",
       "      <th>CPI</th>\n",
       "      <th>Unemployment</th>\n",
       "      <th>Type</th>\n",
       "      <th>Size</th>\n",
       "      <th>Type_B</th>\n",
       "      <th>Type_C</th>\n",
       "    </tr>\n",
       "  </thead>\n",
       "  <tbody>\n",
       "    <tr>\n",
       "      <td>0</td>\n",
       "      <td>37</td>\n",
       "      <td>17</td>\n",
       "      <td>2010-05-28</td>\n",
       "      <td>249.56</td>\n",
       "      <td>0</td>\n",
       "      <td>80.87</td>\n",
       "      <td>2.759</td>\n",
       "      <td>0.0</td>\n",
       "      <td>0.0</td>\n",
       "      <td>0.0</td>\n",
       "      <td>0.0</td>\n",
       "      <td>0.0</td>\n",
       "      <td>209.666051</td>\n",
       "      <td>8.464</td>\n",
       "      <td>C</td>\n",
       "      <td>39910</td>\n",
       "      <td>0</td>\n",
       "      <td>1</td>\n",
       "    </tr>\n",
       "    <tr>\n",
       "      <td>1</td>\n",
       "      <td>19</td>\n",
       "      <td>33</td>\n",
       "      <td>2010-12-10</td>\n",
       "      <td>9501.13</td>\n",
       "      <td>0</td>\n",
       "      <td>25.12</td>\n",
       "      <td>3.255</td>\n",
       "      <td>0.0</td>\n",
       "      <td>0.0</td>\n",
       "      <td>0.0</td>\n",
       "      <td>0.0</td>\n",
       "      <td>0.0</td>\n",
       "      <td>132.676400</td>\n",
       "      <td>8.067</td>\n",
       "      <td>A</td>\n",
       "      <td>203819</td>\n",
       "      <td>0</td>\n",
       "      <td>0</td>\n",
       "    </tr>\n",
       "    <tr>\n",
       "      <td>2</td>\n",
       "      <td>26</td>\n",
       "      <td>60</td>\n",
       "      <td>2011-03-25</td>\n",
       "      <td>96.80</td>\n",
       "      <td>0</td>\n",
       "      <td>22.99</td>\n",
       "      <td>3.624</td>\n",
       "      <td>0.0</td>\n",
       "      <td>0.0</td>\n",
       "      <td>0.0</td>\n",
       "      <td>0.0</td>\n",
       "      <td>0.0</td>\n",
       "      <td>133.958742</td>\n",
       "      <td>7.907</td>\n",
       "      <td>A</td>\n",
       "      <td>152513</td>\n",
       "      <td>0</td>\n",
       "      <td>0</td>\n",
       "    </tr>\n",
       "    <tr>\n",
       "      <td>3</td>\n",
       "      <td>31</td>\n",
       "      <td>33</td>\n",
       "      <td>2010-11-05</td>\n",
       "      <td>7145.63</td>\n",
       "      <td>0</td>\n",
       "      <td>58.71</td>\n",
       "      <td>2.689</td>\n",
       "      <td>0.0</td>\n",
       "      <td>0.0</td>\n",
       "      <td>0.0</td>\n",
       "      <td>0.0</td>\n",
       "      <td>0.0</td>\n",
       "      <td>211.613505</td>\n",
       "      <td>8.163</td>\n",
       "      <td>A</td>\n",
       "      <td>203750</td>\n",
       "      <td>0</td>\n",
       "      <td>0</td>\n",
       "    </tr>\n",
       "    <tr>\n",
       "      <td>4</td>\n",
       "      <td>9</td>\n",
       "      <td>74</td>\n",
       "      <td>2010-02-05</td>\n",
       "      <td>8076.88</td>\n",
       "      <td>0</td>\n",
       "      <td>38.01</td>\n",
       "      <td>2.572</td>\n",
       "      <td>0.0</td>\n",
       "      <td>0.0</td>\n",
       "      <td>0.0</td>\n",
       "      <td>0.0</td>\n",
       "      <td>0.0</td>\n",
       "      <td>214.655459</td>\n",
       "      <td>6.415</td>\n",
       "      <td>B</td>\n",
       "      <td>125833</td>\n",
       "      <td>1</td>\n",
       "      <td>0</td>\n",
       "    </tr>\n",
       "  </tbody>\n",
       "</table>\n",
       "</div>"
      ],
      "text/plain": [
       "   Store  Dept        Date  Weekly_Sales  IsHoliday  Temperature  Fuel_Price  \\\n",
       "0     37    17  2010-05-28        249.56          0        80.87       2.759   \n",
       "1     19    33  2010-12-10       9501.13          0        25.12       3.255   \n",
       "2     26    60  2011-03-25         96.80          0        22.99       3.624   \n",
       "3     31    33  2010-11-05       7145.63          0        58.71       2.689   \n",
       "4      9    74  2010-02-05       8076.88          0        38.01       2.572   \n",
       "\n",
       "   MarkDown1  MarkDown2  MarkDown3  MarkDown4  MarkDown5         CPI  \\\n",
       "0        0.0        0.0        0.0        0.0        0.0  209.666051   \n",
       "1        0.0        0.0        0.0        0.0        0.0  132.676400   \n",
       "2        0.0        0.0        0.0        0.0        0.0  133.958742   \n",
       "3        0.0        0.0        0.0        0.0        0.0  211.613505   \n",
       "4        0.0        0.0        0.0        0.0        0.0  214.655459   \n",
       "\n",
       "   Unemployment Type    Size  Type_B  Type_C  \n",
       "0         8.464    C   39910       0       1  \n",
       "1         8.067    A  203819       0       0  \n",
       "2         7.907    A  152513       0       0  \n",
       "3         8.163    A  203750       0       0  \n",
       "4         6.415    B  125833       1       0  "
      ]
     },
     "execution_count": 55,
     "metadata": {},
     "output_type": "execute_result"
    }
   ],
   "source": [
    "df.head()"
   ]
  },
  {
   "cell_type": "code",
   "execution_count": 56,
   "metadata": {},
   "outputs": [],
   "source": [
    "df.drop('Type', axis = 1 , inplace = True)"
   ]
  },
  {
   "cell_type": "code",
   "execution_count": 57,
   "metadata": {},
   "outputs": [
    {
     "data": {
      "text/plain": [
       "Index(['Store', 'Dept', 'Date', 'Weekly_Sales', 'IsHoliday', 'Temperature',\n",
       "       'Fuel_Price', 'MarkDown1', 'MarkDown2', 'MarkDown3', 'MarkDown4',\n",
       "       'MarkDown5', 'CPI', 'Unemployment', 'Size', 'Type_B', 'Type_C'],\n",
       "      dtype='object')"
      ]
     },
     "execution_count": 57,
     "metadata": {},
     "output_type": "execute_result"
    }
   ],
   "source": [
    "df.columns"
   ]
  },
  {
   "cell_type": "markdown",
   "metadata": {},
   "source": [
    "# Handling Dates"
   ]
  },
  {
   "cell_type": "code",
   "execution_count": 58,
   "metadata": {},
   "outputs": [
    {
     "data": {
      "text/plain": [
       "dtype('O')"
      ]
     },
     "execution_count": 58,
     "metadata": {},
     "output_type": "execute_result"
    }
   ],
   "source": [
    "df.Date.dtype"
   ]
  },
  {
   "cell_type": "code",
   "execution_count": 59,
   "metadata": {},
   "outputs": [
    {
     "data": {
      "text/plain": [
       "0   2010-05-28\n",
       "1   2010-12-10\n",
       "2   2011-03-25\n",
       "3   2010-11-05\n",
       "4   2010-02-05\n",
       "5   2012-01-27\n",
       "6   2010-02-26\n",
       "7   2010-11-12\n",
       "8   2011-07-29\n",
       "9   2010-05-28\n",
       "Name: Date, dtype: datetime64[ns]"
      ]
     },
     "execution_count": 59,
     "metadata": {},
     "output_type": "execute_result"
    }
   ],
   "source": [
    "date = pd.to_datetime(df['Date'])\n",
    "date[:10]"
   ]
  },
  {
   "cell_type": "code",
   "execution_count": 60,
   "metadata": {},
   "outputs": [
    {
     "data": {
      "text/plain": [
       "0     5\n",
       "1    12\n",
       "2     3\n",
       "3    11\n",
       "4     2\n",
       "5     1\n",
       "6     2\n",
       "7    11\n",
       "8     7\n",
       "9     5\n",
       "Name: Date, dtype: int64"
      ]
     },
     "execution_count": 60,
     "metadata": {},
     "output_type": "execute_result"
    }
   ],
   "source": [
    "date.dt.month[:10]"
   ]
  },
  {
   "cell_type": "code",
   "execution_count": 61,
   "metadata": {},
   "outputs": [
    {
     "data": {
      "text/plain": [
       "0    2010\n",
       "1    2010\n",
       "2    2011\n",
       "3    2010\n",
       "4    2010\n",
       "5    2012\n",
       "6    2010\n",
       "7    2010\n",
       "8    2011\n",
       "9    2010\n",
       "Name: Date, dtype: int64"
      ]
     },
     "execution_count": 61,
     "metadata": {},
     "output_type": "execute_result"
    }
   ],
   "source": [
    "date.dt.year[:10]"
   ]
  },
  {
   "cell_type": "code",
   "execution_count": 62,
   "metadata": {},
   "outputs": [
    {
     "data": {
      "text/plain": [
       "0    28\n",
       "1    10\n",
       "2    25\n",
       "3     5\n",
       "4     5\n",
       "5    27\n",
       "6    26\n",
       "7    12\n",
       "8    29\n",
       "9    28\n",
       "Name: Date, dtype: int64"
      ]
     },
     "execution_count": 62,
     "metadata": {},
     "output_type": "execute_result"
    }
   ],
   "source": [
    "date.dt.day[:10]"
   ]
  },
  {
   "cell_type": "code",
   "execution_count": 63,
   "metadata": {},
   "outputs": [],
   "source": [
    "df['Month'] = date.dt.month"
   ]
  },
  {
   "cell_type": "code",
   "execution_count": 64,
   "metadata": {},
   "outputs": [
    {
     "data": {
      "text/plain": [
       "Index(['Store', 'Dept', 'Date', 'Weekly_Sales', 'IsHoliday', 'Temperature',\n",
       "       'Fuel_Price', 'MarkDown1', 'MarkDown2', 'MarkDown3', 'MarkDown4',\n",
       "       'MarkDown5', 'CPI', 'Unemployment', 'Size', 'Type_B', 'Type_C',\n",
       "       'Month'],\n",
       "      dtype='object')"
      ]
     },
     "execution_count": 64,
     "metadata": {},
     "output_type": "execute_result"
    }
   ],
   "source": [
    "df.columns"
   ]
  },
  {
   "cell_type": "code",
   "execution_count": 65,
   "metadata": {},
   "outputs": [
    {
     "data": {
      "text/plain": [
       "Index(['Store', 'Dept', 'Date', 'Weekly_Sales', 'IsHoliday', 'Temperature',\n",
       "       'Fuel_Price', 'MarkDown1', 'MarkDown2', 'MarkDown3', 'MarkDown4',\n",
       "       'MarkDown5', 'CPI', 'Unemployment', 'Size', 'Type_B', 'Type_C', 'Month',\n",
       "       'Year'],\n",
       "      dtype='object')"
      ]
     },
     "execution_count": 65,
     "metadata": {},
     "output_type": "execute_result"
    }
   ],
   "source": [
    "df['Year'] = date.dt.year\n",
    "df.columns"
   ]
  },
  {
   "cell_type": "code",
   "execution_count": 66,
   "metadata": {},
   "outputs": [],
   "source": [
    "df.drop(['Date','Year'],axis = 1,inplace = True)"
   ]
  },
  {
   "cell_type": "code",
   "execution_count": 67,
   "metadata": {},
   "outputs": [
    {
     "data": {
      "text/plain": [
       "Index(['Store', 'Dept', 'Weekly_Sales', 'IsHoliday', 'Temperature',\n",
       "       'Fuel_Price', 'MarkDown1', 'MarkDown2', 'MarkDown3', 'MarkDown4',\n",
       "       'MarkDown5', 'CPI', 'Unemployment', 'Size', 'Type_B', 'Type_C',\n",
       "       'Month'],\n",
       "      dtype='object')"
      ]
     },
     "execution_count": 67,
     "metadata": {},
     "output_type": "execute_result"
    }
   ],
   "source": [
    "df.columns"
   ]
  },
  {
   "cell_type": "code",
   "execution_count": 68,
   "metadata": {},
   "outputs": [
    {
     "data": {
      "text/html": [
       "<div>\n",
       "<style scoped>\n",
       "    .dataframe tbody tr th:only-of-type {\n",
       "        vertical-align: middle;\n",
       "    }\n",
       "\n",
       "    .dataframe tbody tr th {\n",
       "        vertical-align: top;\n",
       "    }\n",
       "\n",
       "    .dataframe thead th {\n",
       "        text-align: right;\n",
       "    }\n",
       "</style>\n",
       "<table border=\"1\" class=\"dataframe\">\n",
       "  <thead>\n",
       "    <tr style=\"text-align: right;\">\n",
       "      <th></th>\n",
       "      <th>Store</th>\n",
       "      <th>Dept</th>\n",
       "      <th>Weekly_Sales</th>\n",
       "      <th>IsHoliday</th>\n",
       "      <th>Temperature</th>\n",
       "      <th>Fuel_Price</th>\n",
       "      <th>MarkDown1</th>\n",
       "      <th>MarkDown2</th>\n",
       "      <th>MarkDown3</th>\n",
       "      <th>MarkDown4</th>\n",
       "      <th>MarkDown5</th>\n",
       "      <th>CPI</th>\n",
       "      <th>Unemployment</th>\n",
       "      <th>Size</th>\n",
       "      <th>Type_B</th>\n",
       "      <th>Type_C</th>\n",
       "      <th>Month</th>\n",
       "    </tr>\n",
       "  </thead>\n",
       "  <tbody>\n",
       "    <tr>\n",
       "      <td>0</td>\n",
       "      <td>37</td>\n",
       "      <td>17</td>\n",
       "      <td>249.56</td>\n",
       "      <td>0</td>\n",
       "      <td>80.87</td>\n",
       "      <td>2.759</td>\n",
       "      <td>0.0</td>\n",
       "      <td>0.0</td>\n",
       "      <td>0.0</td>\n",
       "      <td>0.0</td>\n",
       "      <td>0.0</td>\n",
       "      <td>209.666051</td>\n",
       "      <td>8.464</td>\n",
       "      <td>39910</td>\n",
       "      <td>0</td>\n",
       "      <td>1</td>\n",
       "      <td>5</td>\n",
       "    </tr>\n",
       "    <tr>\n",
       "      <td>1</td>\n",
       "      <td>19</td>\n",
       "      <td>33</td>\n",
       "      <td>9501.13</td>\n",
       "      <td>0</td>\n",
       "      <td>25.12</td>\n",
       "      <td>3.255</td>\n",
       "      <td>0.0</td>\n",
       "      <td>0.0</td>\n",
       "      <td>0.0</td>\n",
       "      <td>0.0</td>\n",
       "      <td>0.0</td>\n",
       "      <td>132.676400</td>\n",
       "      <td>8.067</td>\n",
       "      <td>203819</td>\n",
       "      <td>0</td>\n",
       "      <td>0</td>\n",
       "      <td>12</td>\n",
       "    </tr>\n",
       "    <tr>\n",
       "      <td>2</td>\n",
       "      <td>26</td>\n",
       "      <td>60</td>\n",
       "      <td>96.80</td>\n",
       "      <td>0</td>\n",
       "      <td>22.99</td>\n",
       "      <td>3.624</td>\n",
       "      <td>0.0</td>\n",
       "      <td>0.0</td>\n",
       "      <td>0.0</td>\n",
       "      <td>0.0</td>\n",
       "      <td>0.0</td>\n",
       "      <td>133.958742</td>\n",
       "      <td>7.907</td>\n",
       "      <td>152513</td>\n",
       "      <td>0</td>\n",
       "      <td>0</td>\n",
       "      <td>3</td>\n",
       "    </tr>\n",
       "    <tr>\n",
       "      <td>3</td>\n",
       "      <td>31</td>\n",
       "      <td>33</td>\n",
       "      <td>7145.63</td>\n",
       "      <td>0</td>\n",
       "      <td>58.71</td>\n",
       "      <td>2.689</td>\n",
       "      <td>0.0</td>\n",
       "      <td>0.0</td>\n",
       "      <td>0.0</td>\n",
       "      <td>0.0</td>\n",
       "      <td>0.0</td>\n",
       "      <td>211.613505</td>\n",
       "      <td>8.163</td>\n",
       "      <td>203750</td>\n",
       "      <td>0</td>\n",
       "      <td>0</td>\n",
       "      <td>11</td>\n",
       "    </tr>\n",
       "    <tr>\n",
       "      <td>4</td>\n",
       "      <td>9</td>\n",
       "      <td>74</td>\n",
       "      <td>8076.88</td>\n",
       "      <td>0</td>\n",
       "      <td>38.01</td>\n",
       "      <td>2.572</td>\n",
       "      <td>0.0</td>\n",
       "      <td>0.0</td>\n",
       "      <td>0.0</td>\n",
       "      <td>0.0</td>\n",
       "      <td>0.0</td>\n",
       "      <td>214.655459</td>\n",
       "      <td>6.415</td>\n",
       "      <td>125833</td>\n",
       "      <td>1</td>\n",
       "      <td>0</td>\n",
       "      <td>2</td>\n",
       "    </tr>\n",
       "  </tbody>\n",
       "</table>\n",
       "</div>"
      ],
      "text/plain": [
       "   Store  Dept  Weekly_Sales  IsHoliday  Temperature  Fuel_Price  MarkDown1  \\\n",
       "0     37    17        249.56          0        80.87       2.759        0.0   \n",
       "1     19    33       9501.13          0        25.12       3.255        0.0   \n",
       "2     26    60         96.80          0        22.99       3.624        0.0   \n",
       "3     31    33       7145.63          0        58.71       2.689        0.0   \n",
       "4      9    74       8076.88          0        38.01       2.572        0.0   \n",
       "\n",
       "   MarkDown2  MarkDown3  MarkDown4  MarkDown5         CPI  Unemployment  \\\n",
       "0        0.0        0.0        0.0        0.0  209.666051         8.464   \n",
       "1        0.0        0.0        0.0        0.0  132.676400         8.067   \n",
       "2        0.0        0.0        0.0        0.0  133.958742         7.907   \n",
       "3        0.0        0.0        0.0        0.0  211.613505         8.163   \n",
       "4        0.0        0.0        0.0        0.0  214.655459         6.415   \n",
       "\n",
       "     Size  Type_B  Type_C  Month  \n",
       "0   39910       0       1      5  \n",
       "1  203819       0       0     12  \n",
       "2  152513       0       0      3  \n",
       "3  203750       0       0     11  \n",
       "4  125833       1       0      2  "
      ]
     },
     "execution_count": 68,
     "metadata": {},
     "output_type": "execute_result"
    }
   ],
   "source": [
    "df.head()"
   ]
  },
  {
   "cell_type": "code",
   "execution_count": 69,
   "metadata": {},
   "outputs": [
    {
     "data": {
      "text/plain": [
       "Weekly_Sales    1.000000\n",
       "Size            0.240998\n",
       "Dept            0.143579\n",
       "MarkDown1       0.039839\n",
       "MarkDown5       0.039438\n",
       "MarkDown3       0.038997\n",
       "MarkDown4       0.034335\n",
       "Month           0.030950\n",
       "MarkDown2       0.014134\n",
       "IsHoliday       0.009686\n",
       "Fuel_Price      0.001039\n",
       "Temperature     0.000846\n",
       "Unemployment   -0.021120\n",
       "CPI            -0.024192\n",
       "Store          -0.083689\n",
       "Type_C         -0.098046\n",
       "Type_B         -0.127385\n",
       "Name: Weekly_Sales, dtype: float64"
      ]
     },
     "execution_count": 69,
     "metadata": {},
     "output_type": "execute_result"
    }
   ],
   "source": [
    "corr_matrix = df.corr()\n",
    "corr_df = corr_matrix['Weekly_Sales'].sort_values(ascending = False)\n",
    "corr_df"
   ]
  },
  {
   "cell_type": "code",
   "execution_count": 70,
   "metadata": {},
   "outputs": [
    {
     "data": {
      "image/png": "[encoded data removed]",
      "text/plain": [
       "<Figure size 1152x576 with 2 Axes>"
      ]
     },
     "metadata": {
      "needs_background": "light"
     },
     "output_type": "display_data"
    }
   ],
   "source": [
    "plt.figure(figsize = (16,8))\n",
    "sns.heatmap(df.corr(),annot = True)\n",
    "plt.show()"
   ]
  },
  {
   "cell_type": "code",
   "execution_count": 71,
   "metadata": {},
   "outputs": [
    {
     "data": {
      "text/plain": [
       "Index(['Store', 'Dept', 'Weekly_Sales', 'IsHoliday', 'Temperature',\n",
       "       'Fuel_Price', 'MarkDown1', 'MarkDown2', 'MarkDown3', 'MarkDown4',\n",
       "       'MarkDown5', 'CPI', 'Unemployment', 'Size', 'Type_B', 'Type_C',\n",
       "       'Month'],\n",
       "      dtype='object')"
      ]
     },
     "execution_count": 71,
     "metadata": {},
     "output_type": "execute_result"
    }
   ],
   "source": [
    "df.columns"
   ]
  },
  {
   "cell_type": "code",
   "execution_count": 72,
   "metadata": {},
   "outputs": [
    {
     "data": {
      "text/plain": [
       "17"
      ]
     },
     "execution_count": 72,
     "metadata": {},
     "output_type": "execute_result"
    }
   ],
   "source": [
    "len(df.columns)"
   ]
  },
  {
   "cell_type": "code",
   "execution_count": 73,
   "metadata": {},
   "outputs": [],
   "source": [
    "df.drop(['CPI','Unemployment','Fuel_Price'], axis = 1 , inplace = True)"
   ]
  },
  {
   "cell_type": "code",
   "execution_count": 74,
   "metadata": {},
   "outputs": [
    {
     "data": {
      "text/plain": [
       "14"
      ]
     },
     "execution_count": 74,
     "metadata": {},
     "output_type": "execute_result"
    }
   ],
   "source": [
    "len(df.columns)"
   ]
  },
  {
   "cell_type": "code",
   "execution_count": 75,
   "metadata": {},
   "outputs": [],
   "source": [
    "X = df.drop('Weekly_Sales',axis = True).values"
   ]
  },
  {
   "cell_type": "code",
   "execution_count": 76,
   "metadata": {},
   "outputs": [
    {
     "data": {
      "text/plain": [
       "(50000, 13)"
      ]
     },
     "execution_count": 76,
     "metadata": {},
     "output_type": "execute_result"
    }
   ],
   "source": [
    "X.shape"
   ]
  },
  {
   "cell_type": "code",
   "execution_count": 77,
   "metadata": {},
   "outputs": [],
   "source": [
    "Y = df['Weekly_Sales'].values"
   ]
  },
  {
   "cell_type": "code",
   "execution_count": 78,
   "metadata": {},
   "outputs": [
    {
     "data": {
      "text/plain": [
       "(50000,)"
      ]
     },
     "execution_count": 78,
     "metadata": {},
     "output_type": "execute_result"
    }
   ],
   "source": [
    "Y.shape"
   ]
  },
  {
   "cell_type": "markdown",
   "metadata": {},
   "source": [
    "# Splitting the data"
   ]
  },
  {
   "cell_type": "code",
   "execution_count": 79,
   "metadata": {},
   "outputs": [],
   "source": [
    "from sklearn.model_selection import train_test_split"
   ]
  },
  {
   "cell_type": "code",
   "execution_count": 80,
   "metadata": {},
   "outputs": [],
   "source": [
    "x_train,x_test,y_train,y_test = train_test_split(X,Y,test_size =0.2,random_state=100)"
   ]
  },
  {
   "cell_type": "code",
   "execution_count": 81,
   "metadata": {},
   "outputs": [
    {
     "data": {
      "text/plain": [
       "(40000, 13)"
      ]
     },
     "execution_count": 81,
     "metadata": {},
     "output_type": "execute_result"
    }
   ],
   "source": [
    "x_train.shape"
   ]
  },
  {
   "cell_type": "code",
   "execution_count": 82,
   "metadata": {},
   "outputs": [
    {
     "data": {
      "text/plain": [
       "(10000, 13)"
      ]
     },
     "execution_count": 82,
     "metadata": {},
     "output_type": "execute_result"
    }
   ],
   "source": [
    "x_test.shape"
   ]
  },
  {
   "cell_type": "code",
   "execution_count": 83,
   "metadata": {},
   "outputs": [],
   "source": [
    "from sklearn.linear_model import LinearRegression"
   ]
  },
  {
   "cell_type": "code",
   "execution_count": 84,
   "metadata": {},
   "outputs": [
    {
     "data": {
      "text/plain": [
       "LinearRegression(copy_X=True, fit_intercept=True, n_jobs=None, normalize=False)"
      ]
     },
     "execution_count": 84,
     "metadata": {},
     "output_type": "execute_result"
    }
   ],
   "source": [
    "lr = LinearRegression()\n",
    "lr.fit(x_train,y_train)"
   ]
  },
  {
   "cell_type": "code",
   "execution_count": 85,
   "metadata": {},
   "outputs": [],
   "source": [
    "y_pred = lr.predict(x_test)"
   ]
  },
  {
   "cell_type": "code",
   "execution_count": 86,
   "metadata": {},
   "outputs": [
    {
     "data": {
      "text/plain": [
       "array([ 8043.15606509, 23145.25868369, 22195.49960974, ...,\n",
       "       13209.00558761, 15163.15039905, 21849.43467999])"
      ]
     },
     "execution_count": 86,
     "metadata": {},
     "output_type": "execute_result"
    }
   ],
   "source": [
    "y_pred"
   ]
  },
  {
   "cell_type": "code",
   "execution_count": 87,
   "metadata": {},
   "outputs": [],
   "source": [
    "from sklearn.metrics import mean_squared_error"
   ]
  },
  {
   "cell_type": "code",
   "execution_count": 88,
   "metadata": {},
   "outputs": [
    {
     "data": {
      "text/plain": [
       "465362277.2383383"
      ]
     },
     "execution_count": 88,
     "metadata": {},
     "output_type": "execute_result"
    }
   ],
   "source": [
    "mse = mean_squared_error(y_test,y_pred)\n",
    "mse"
   ]
  },
  {
   "cell_type": "code",
   "execution_count": 89,
   "metadata": {},
   "outputs": [
    {
     "data": {
      "text/plain": [
       "21572.25711969747"
      ]
     },
     "execution_count": 89,
     "metadata": {},
     "output_type": "execute_result"
    }
   ],
   "source": [
    "np.sqrt(mse)"
   ]
  },
  {
   "cell_type": "code",
   "execution_count": 90,
   "metadata": {},
   "outputs": [
    {
     "data": {
      "text/plain": [
       "465362277.2383383"
      ]
     },
     "execution_count": 90,
     "metadata": {},
     "output_type": "execute_result"
    }
   ],
   "source": [
    "#from sklearn import linear_model\n",
    "import sklearn.metrics as metrics\n",
    "from sklearn.metrics import mean_squared_error\n",
    "metrics.mean_squared_error(y_test,y_pred)\n",
    "#plt.plot(y_test, y_pred,'ro')\n",
    "#plt.show()"
   ]
  },
  {
   "cell_type": "markdown",
   "metadata": {},
   "source": [
    "# Stochastic Gradient Descent"
   ]
  },
  {
   "cell_type": "code",
   "execution_count": 91,
   "metadata": {},
   "outputs": [],
   "source": [
    "from sklearn.model_selection import cross_val_score"
   ]
  },
  {
   "cell_type": "code",
   "execution_count": 92,
   "metadata": {},
   "outputs": [],
   "source": [
    "cv_score = cross_val_score(lr,x_train,y_train,n_jobs = 4,cv = 5,scoring = 'neg_mean_squared_error')"
   ]
  },
  {
   "cell_type": "code",
   "execution_count": 93,
   "metadata": {},
   "outputs": [
    {
     "data": {
      "text/plain": [
       "array([20748.2301426 , 21828.98604571, 21711.1813406 , 20797.53968154,\n",
       "       21610.94764919])"
      ]
     },
     "execution_count": 93,
     "metadata": {},
     "output_type": "execute_result"
    }
   ],
   "source": [
    "np.sqrt(-(cv_score))"
   ]
  },
  {
   "cell_type": "code",
   "execution_count": 94,
   "metadata": {},
   "outputs": [],
   "source": [
    "from sklearn.linear_model import SGDRegressor"
   ]
  },
  {
   "cell_type": "code",
   "execution_count": 95,
   "metadata": {},
   "outputs": [],
   "source": [
    "sgd = SGDRegressor()"
   ]
  },
  {
   "cell_type": "code",
   "execution_count": 96,
   "metadata": {},
   "outputs": [
    {
     "data": {
      "text/plain": [
       "SGDRegressor(alpha=0.0001, average=False, early_stopping=False, epsilon=0.1,\n",
       "             eta0=0.01, fit_intercept=True, l1_ratio=0.15,\n",
       "             learning_rate='invscaling', loss='squared_loss', max_iter=1000,\n",
       "             n_iter_no_change=5, penalty='l2', power_t=0.25, random_state=None,\n",
       "             shuffle=True, tol=0.001, validation_fraction=0.1, verbose=0,\n",
       "             warm_start=False)"
      ]
     },
     "execution_count": 96,
     "metadata": {},
     "output_type": "execute_result"
    }
   ],
   "source": [
    "sgd.fit(x_train,y_train)"
   ]
  },
  {
   "cell_type": "code",
   "execution_count": 97,
   "metadata": {},
   "outputs": [],
   "source": [
    "y_pred = sgd.predict(x_test)"
   ]
  },
  {
   "cell_type": "code",
   "execution_count": 98,
   "metadata": {},
   "outputs": [],
   "source": [
    "sgd_error = mean_squared_error(y_test,y_pred)"
   ]
  },
  {
   "cell_type": "code",
   "execution_count": 99,
   "metadata": {},
   "outputs": [
    {
     "data": {
      "text/plain": [
       "9.364876920246185e+36"
      ]
     },
     "execution_count": 99,
     "metadata": {},
     "output_type": "execute_result"
    }
   ],
   "source": [
    "metrics.mean_squared_error(y_test,y_pred)"
   ]
  },
  {
   "cell_type": "code",
   "execution_count": 100,
   "metadata": {},
   "outputs": [
    {
     "data": {
      "text/plain": [
       "9.364876920246185e+36"
      ]
     },
     "execution_count": 100,
     "metadata": {},
     "output_type": "execute_result"
    }
   ],
   "source": [
    "sgd_error"
   ]
  },
  {
   "cell_type": "code",
   "execution_count": 101,
   "metadata": {},
   "outputs": [
    {
     "data": {
      "text/plain": [
       "3.0602086399861996e+18"
      ]
     },
     "execution_count": 101,
     "metadata": {},
     "output_type": "execute_result"
    }
   ],
   "source": [
    "np.sqrt(sgd_error)"
   ]
  }
 ],
 "metadata": {
  "kernelspec": {
   "display_name": "Python 3",
   "language": "python",
   "name": "python3"
  },
  "language_info": {
   "codemirror_mode": {
    "name": "ipython",
    "version": 3
   },
   "file_extension": ".py",
   "mimetype": "text/x-python",
   "name": "python",
   "nbconvert_exporter": "python",
   "pygments_lexer": "ipython3",
   "version": "3.7.4"
  }
 },
 "nbformat": 4,
 "nbformat_minor": 2
}
